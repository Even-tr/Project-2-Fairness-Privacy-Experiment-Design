{
 "cells": [
  {
   "cell_type": "code",
   "execution_count": null,
   "metadata": {},
   "outputs": [],
   "source": []
  },
  {
   "cell_type": "code",
   "execution_count": 5,
   "metadata": {},
   "outputs": [],
   "source": [
    "from covid.simulator import Population\n",
    "from covid.auxilliary import symptom_names\n",
    "import numpy as np\n",
    "import pandas as pd\n",
    "import matplotlib.pyplot as plt\n",
    "\n",
    "from covid.policy import Policy"
   ]
  },
  {
   "cell_type": "code",
   "execution_count": 6,
   "metadata": {},
   "outputs": [],
   "source": [
    "## Baseline simulator parameters\n",
    "n_genes = 128\n",
    "n_vaccines = 3 # DO NOT CHANGE, breaks the simulator.\n",
    "n_treatments = 4\n",
    "n_population = 10000\n",
    "n_symptoms = 10\n",
    "#batch_size = 2000\n",
    "\n",
    "#assert n_population/batch_size == n_population//batch_size, 'the batch size must evenly divide the number of people'"
   ]
  },
  {
   "cell_type": "code",
   "execution_count": 7,
   "metadata": {},
   "outputs": [],
   "source": [
    "population = Population(n_genes, n_vaccines, n_treatments)"
   ]
  },
  {
   "cell_type": "code",
   "execution_count": 8,
   "metadata": {},
   "outputs": [],
   "source": [
    "X = population.generate(n_population)\n",
    "n_features = X.shape[1]"
   ]
  },
  {
   "cell_type": "code",
   "execution_count": 9,
   "metadata": {},
   "outputs": [
    {
     "data": {
      "text/plain": [
       "array([[0., 1., 0., ..., 0., 0., 0.],\n",
       "       [0., 0., 0., ..., 0., 0., 0.],\n",
       "       [0., 0., 0., ..., 0., 0., 0.],\n",
       "       ...,\n",
       "       [0., 0., 0., ..., 0., 0., 0.],\n",
       "       [0., 0., 0., ..., 0., 0., 0.],\n",
       "       [0., 0., 0., ..., 0., 0., 0.]])"
      ]
     },
     "execution_count": 9,
     "metadata": {},
     "output_type": "execute_result"
    }
   ],
   "source": [
    "X"
   ]
  },
  {
   "cell_type": "code",
   "execution_count": 10,
   "metadata": {},
   "outputs": [
    {
     "data": {
      "text/plain": [
       "(array([1.570e+02, 5.770e+02, 9.610e+02, 1.158e+03, 1.220e+03, 1.111e+03,\n",
       "        1.001e+03, 8.600e+02, 7.000e+02, 5.730e+02, 4.230e+02, 3.210e+02,\n",
       "        2.330e+02, 2.050e+02, 1.350e+02, 1.020e+02, 8.300e+01, 5.800e+01,\n",
       "        3.900e+01, 2.000e+01, 2.300e+01, 1.300e+01, 1.100e+01, 5.000e+00,\n",
       "        2.000e+00, 2.000e+00, 2.000e+00, 4.000e+00, 0.000e+00, 1.000e+00]),\n",
       " array([  0.87620595,   5.77366804,  10.67113012,  15.56859221,\n",
       "         20.46605429,  25.36351638,  30.26097846,  35.15844055,\n",
       "         40.05590263,  44.95336472,  49.8508268 ,  54.74828889,\n",
       "         59.64575097,  64.54321306,  69.44067514,  74.33813723,\n",
       "         79.23559931,  84.1330614 ,  89.03052348,  93.92798557,\n",
       "         98.82544765, 103.72290973, 108.62037182, 113.5178339 ,\n",
       "        118.41529599, 123.31275807, 128.21022016, 133.10768224,\n",
       "        138.00514433, 142.90260641, 147.8000685 ]),\n",
       " <BarContainer object of 30 artists>)"
      ]
     },
     "execution_count": 10,
     "metadata": {},
     "output_type": "execute_result"
    },
    {
     "data": {
      "image/png": "[encoded data removed]",
      "text/plain": [
       "<Figure size 432x288 with 1 Axes>"
      ]
     },
     "metadata": {
      "needs_background": "light"
     },
     "output_type": "display_data"
    }
   ],
   "source": [
    "plt.hist(X[:,10], bins=30)"
   ]
  },
  {
   "cell_type": "code",
   "execution_count": 11,
   "metadata": {},
   "outputs": [
    {
     "data": {
      "text/plain": [
       "(array([2.612e+03, 1.925e+03, 1.480e+03, 1.015e+03, 8.310e+02, 5.210e+02,\n",
       "        4.210e+02, 3.240e+02, 2.220e+02, 1.750e+02, 1.100e+02, 9.200e+01,\n",
       "        6.900e+01, 5.900e+01, 4.400e+01, 2.500e+01, 1.200e+01, 1.800e+01,\n",
       "        8.000e+00, 7.000e+00, 9.000e+00, 7.000e+00, 6.000e+00, 2.000e+00,\n",
       "        1.000e+00, 3.000e+00, 0.000e+00, 0.000e+00, 0.000e+00, 2.000e+00]),\n",
       " array([2.50887924e-01, 3.01226853e+03, 6.02428617e+03, 9.03630381e+03,\n",
       "        1.20483214e+04, 1.50603391e+04, 1.80723567e+04, 2.10843744e+04,\n",
       "        2.40963920e+04, 2.71084096e+04, 3.01204273e+04, 3.31324449e+04,\n",
       "        3.61444626e+04, 3.91564802e+04, 4.21684978e+04, 4.51805155e+04,\n",
       "        4.81925331e+04, 5.12045508e+04, 5.42165684e+04, 5.72285860e+04,\n",
       "        6.02406037e+04, 6.32526213e+04, 6.62646390e+04, 6.92766566e+04,\n",
       "        7.22886742e+04, 7.53006919e+04, 7.83127095e+04, 8.13247272e+04,\n",
       "        8.43367448e+04, 8.73487624e+04, 9.03607801e+04]),\n",
       " <BarContainer object of 30 artists>)"
      ]
     },
     "execution_count": 11,
     "metadata": {},
     "output_type": "execute_result"
    },
    {
     "data": {
      "image/png": "[encoded data removed]",
      "text/plain": [
       "<Figure size 432x288 with 1 Axes>"
      ]
     },
     "metadata": {
      "needs_background": "light"
     },
     "output_type": "display_data"
    }
   ],
   "source": [
    "plt.hist(X[:,12], bins=30)"
   ]
  },
  {
   "cell_type": "code",
   "execution_count": 12,
   "metadata": {},
   "outputs": [
    {
     "name": "stdout",
     "output_type": "stream",
     "text": [
      "(10000, 150)\n",
      "(10000, 150)\n"
     ]
    }
   ],
   "source": [
    "def u(x, value):\n",
    "    \n",
    "    v_cnts = np.unique(x, return_counts=True)\n",
    "\n",
    "    return v_cnts[1][value] / v_cnts[1].sum()\n",
    "    \n",
    "def exponential(x, R, u, sensitivity, epsilon, n=1):\n",
    "    scores = u(x, R) # score each element in R\n",
    "    probs = np.exp(epsilon*scores / 2 / sensitivity)\n",
    "    probs /= probs.sum()\n",
    "    return np.random.choice(R, n, p=probs)\n",
    "\n",
    "X_new = np.zeros((n_population, n_features))\n",
    "\n",
    "for i in range(n_features):\n",
    "    leng = len(np.unique(X[:,i].astype(int)))\n",
    "    e = exponential(X[:,i].astype(int), np.arange(0,leng), u, 1, 100, n=n_population)\n",
    "    \n",
    "    X_new[:,i] = e\n",
    "\n",
    "print(np.shape(X))\n",
    "print(np.shape(X_new))"
   ]
  },
  {
   "cell_type": "code",
   "execution_count": 13,
   "metadata": {},
   "outputs": [],
   "source": [
    "def exp_data(data, epsilon):\n",
    "    n_features = data.shape[1]\n",
    "    \n",
    "    for i in range(n_features):\n",
    "        leng = len(np.unique(data[:,i].astype(int)))\n",
    "        e = exponential(data[:,i].astype(int), np.arange(0,leng), u, 1, epsilon, n=n_population)\n",
    "        \n",
    "        X_new[:,i] = e\n",
    "    \n",
    "    return X_new\n",
    "    "
   ]
  },
  {
   "cell_type": "code",
   "execution_count": 33,
   "metadata": {},
   "outputs": [],
   "source": [
    "varia = ['age', 'gender','income']\n",
    "var_num = [10,11,12]\n"
   ]
  },
  {
   "cell_type": "code",
   "execution_count": 34,
   "metadata": {},
   "outputs": [],
   "source": [
    "def plot_expo(data, varia, var_num):\n",
    "    for i in range(len(varia)): \n",
    "        plt.hist(data[:,var_num[i]],bins=30)\n",
    "        plt.title(\"Histogram after exponential mechanism\")\n",
    "        plt.xlabel(varia[i])\n",
    "        plt.ylabel(\"frequency\")\n",
    "        plt.savefig('figures/histogram_exp_mech_' + varia[i] + '.png')\n",
    "        plt.show()\n",
    "    "
   ]
  },
  {
   "cell_type": "code",
   "execution_count": 35,
   "metadata": {},
   "outputs": [
    {
     "data": {
      "image/png": "[encoded data removed]",
      "text/plain": [
       "<Figure size 432x288 with 1 Axes>"
      ]
     },
     "metadata": {
      "needs_background": "light"
     },
     "output_type": "display_data"
    },
    {
     "data": {
      "image/png": "[encoded data removed]",
      "text/plain": [
       "<Figure size 432x288 with 1 Axes>"
      ]
     },
     "metadata": {
      "needs_background": "light"
     },
     "output_type": "display_data"
    },
    {
     "data": {
      "image/png": "[encoded data removed]",
      "text/plain": [
       "<Figure size 432x288 with 1 Axes>"
      ]
     },
     "metadata": {
      "needs_background": "light"
     },
     "output_type": "display_data"
    },
    {
     "data": {
      "text/plain": [
       "\"\\nplot_expo(X_exp, feature=10)\\nplt.xlabel(varia[i])\\nplt.savefig('figures/hist_exp_mech_age.png')\\nplt.show()\\nplot_expo(X_exp, feature=11)\\nplt.savefig('figures/hist_exp_mech_gender.png')\\nplt.show()\\nplot_expo(X_exp, feature=12)\\nplt.savefig('figures/hist_exp_mech_salary.png')\\nplt.show()\\n\""
      ]
     },
     "execution_count": 35,
     "metadata": {},
     "output_type": "execute_result"
    }
   ],
   "source": [
    "X_exp = exp_data(X, epsilon=100)\n",
    "plot_expo(X_exp, varia, var_num)\n",
    "\n",
    "\n",
    "\"\"\"\n",
    "plot_expo(X_exp, feature=10)\n",
    "plt.xlabel(varia[i])\n",
    "plt.savefig('figures/hist_exp_mech_age.png')\n",
    "plt.show()\n",
    "plot_expo(X_exp, feature=11)\n",
    "plt.savefig('figures/hist_exp_mech_gender.png')\n",
    "plt.show()\n",
    "plot_expo(X_exp, feature=12)\n",
    "plt.savefig('figures/hist_exp_mech_salary.png')\n",
    "plt.show()\n",
    "\"\"\""
   ]
  },
  {
   "cell_type": "code",
   "execution_count": null,
   "metadata": {},
   "outputs": [],
   "source": []
  },
  {
   "cell_type": "code",
   "execution_count": 302,
   "metadata": {},
   "outputs": [
    {
     "data": {
      "text/plain": [
       "(array([276., 321., 447., 723., 603., 661., 788., 520., 451., 355., 450.,\n",
       "        291., 265., 305., 244., 223., 309., 216., 198., 208., 248., 185.,\n",
       "        201., 241., 220., 183., 249., 207., 184., 228.]),\n",
       " array([  0. ,   4.3,   8.6,  12.9,  17.2,  21.5,  25.8,  30.1,  34.4,\n",
       "         38.7,  43. ,  47.3,  51.6,  55.9,  60.2,  64.5,  68.8,  73.1,\n",
       "         77.4,  81.7,  86. ,  90.3,  94.6,  98.9, 103.2, 107.5, 111.8,\n",
       "        116.1, 120.4, 124.7, 129. ]),\n",
       " <BarContainer object of 30 artists>)"
      ]
     },
     "execution_count": 302,
     "metadata": {},
     "output_type": "execute_result"
    },
    {
     "data": {
      "image/png": "[encoded data removed]",
      "text/plain": [
       "<Figure size 432x288 with 1 Axes>"
      ]
     },
     "metadata": {
      "needs_background": "light"
     },
     "output_type": "display_data"
    }
   ],
   "source": [
    "plt.hist(X_new[:,10],bins=30)"
   ]
  },
  {
   "cell_type": "code",
   "execution_count": null,
   "metadata": {},
   "outputs": [],
   "source": []
  }
 ],
 "metadata": {
  "interpreter": {
   "hash": "51600fd56a40f342b1560ff0a624a3ca9526e59d8d11c813ce0c927098550455"
  },
  "kernelspec": {
   "display_name": "Python 3",
   "language": "python",
   "name": "python3"
  },
  "language_info": {
   "codemirror_mode": {
    "name": "ipython",
    "version": 3
   },
   "file_extension": ".py",
   "mimetype": "text/x-python",
   "name": "python",
   "nbconvert_exporter": "python",
   "pygments_lexer": "ipython3",
   "version": "3.8.8"
  }
 },
 "nbformat": 4,
 "nbformat_minor": 2
}
