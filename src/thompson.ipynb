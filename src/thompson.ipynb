{
 "cells": [
  {
   "cell_type": "code",
   "execution_count": 1,
   "metadata": {},
   "outputs": [],
   "source": [
    "from covid.simulator import Population\n",
    "from covid.auxilliary import symptom_names\n",
    "import numpy as np\n",
    "import pandas as pd\n",
    "import matplotlib.pyplot as plt\n",
    "\n",
    "from covid.policy import Policy\n",
    "from scipy.stats import beta, bernoulli, uniform"
   ]
  },
  {
   "cell_type": "code",
   "execution_count": 46,
   "metadata": {},
   "outputs": [
    {
     "data": {
      "text/plain": [
       "-0.014603301590692591"
      ]
     },
     "execution_count": 46,
     "metadata": {},
     "output_type": "execute_result"
    }
   ],
   "source": [
    "np.random.laplace(0,0.1)"
   ]
  },
  {
   "cell_type": "code",
   "execution_count": 82,
   "metadata": {},
   "outputs": [],
   "source": [
    "class ThompsonSampling:\n",
    "    def __init__(self, nvacc):\n",
    "        # Priors for the beta-bernoulli model\n",
    "        self.a = np.ones(nvacc) # uniform prior\n",
    "        self.b = np.ones(nvacc) # uniform prior\n",
    "        self.nvacc = nvacc\n",
    "\n",
    "    def update(self, action, outcome):\n",
    "        self.a[action] += outcome\n",
    "        self.b[action] += 1 - outcome\n",
    "    \n",
    "    def update_with_laplace(self, action, outcome):\n",
    "        outcome = outcome + np.random.laplace(0, 0.1)\n",
    "        self.a[action] += outcome\n",
    "        self.b[action] += 1 - outcome\n",
    "    \n",
    "    def get_params(self):\n",
    "        # Returns the parameters of all the beta distrobutions.\n",
    "        return self.a, self.b\n",
    "\n",
    "    def get_prob(self):\n",
    "        return beta.rvs(self.a, self.b)"
   ]
  },
  {
   "cell_type": "code",
   "execution_count": 83,
   "metadata": {},
   "outputs": [],
   "source": [
    "class Naive(Policy):\n",
    "    def set_model(self, model):\n",
    "        self.model = model\n",
    "    \n",
    "    def get_action(self):\n",
    "        probs = self.model.get_prob()\n",
    "        \n",
    "        #print(probs)\n",
    "        ret_val = np.argmin(probs)\n",
    "        #print(ret_val)\n",
    "        #print(ret_val)\n",
    "        return ret_val\n",
    "\n",
    "    def observe(self, action, outcome):\n",
    "        self.model.update(action, outcome)\n",
    "        \n",
    "    def observe_with_laplace(self, action, outcome):\n",
    "        self.model.update_with_laplace(action, outcome)\n",
    "        "
   ]
  },
  {
   "cell_type": "code",
   "execution_count": 7,
   "metadata": {},
   "outputs": [],
   "source": [
    "thetas = np.array([0.6, 0.55, 0.5])"
   ]
  },
  {
   "cell_type": "code",
   "execution_count": 8,
   "metadata": {},
   "outputs": [],
   "source": [
    "n_genes = 128\n",
    "n_vaccines = 3\n",
    "n_treatment = 4\n",
    "#population = Population(n_genes, n_vaccines, n_treatment)\n",
    "N = 10000\n",
    "#X = population.generate(N)"
   ]
  },
  {
   "cell_type": "code",
   "execution_count": 9,
   "metadata": {},
   "outputs": [
    {
     "name": "stdout",
     "output_type": "stream",
     "text": [
      "Initialising policy with  3 actions\n",
      "A = { [0, 1, 2] }\n",
      "143.0 102.0\n",
      "119.0 93.0\n",
      "4754.0 4795.0\n",
      "0.5836734693877551\n",
      "0.5613207547169812\n",
      "0.497853178343282\n"
     ]
    }
   ],
   "source": [
    "policy = Naive(n_actions=3, action_set=[0, 1, 2])\n",
    "model = ThompsonSampling(nvacc=3)\n",
    "policy.set_model(model)\n",
    "\n",
    "action_arr = np.zeros(N)\n",
    "symptom_arr = np.zeros(N)\n",
    "\n",
    "for i in range(N):\n",
    "    action = policy.get_action()\n",
    "    #print(thetas[action])\n",
    "    reward = bernoulli.rvs(thetas[action])\n",
    "    #print(reward)\n",
    "    policy.observe(action, reward)\n",
    "    action_arr[i] = action\n",
    "    symptom_arr[i] = reward\n",
    "\n",
    "    #print(action, reward)\n",
    "    #policy.observe(action, reward)\n",
    "    #print(action)\n",
    "\n",
    "alphas, betas = policy.model.get_params()\n",
    "for i, j in zip(alphas, betas):\n",
    "    print(i,j)\n",
    "print(alphas[0]/(alphas[0] + betas[0]))\n",
    "print(alphas[1]/(alphas[1] + betas[1]))\n",
    "print(alphas[2]/(alphas[2] + betas[2]))\n"
   ]
  },
  {
   "cell_type": "code",
   "execution_count": 10,
   "metadata": {},
   "outputs": [
    {
     "data": {
      "text/plain": [
       "(array([ 243.,    0.,    0.,    0.,    0.,  210.,    0.,    0.,    0.,\n",
       "        9547.]),\n",
       " array([0. , 0.2, 0.4, 0.6, 0.8, 1. , 1.2, 1.4, 1.6, 1.8, 2. ]),\n",
       " <BarContainer object of 10 artists>)"
      ]
     },
     "execution_count": 10,
     "metadata": {},
     "output_type": "execute_result"
    },
    {
     "data": {
      "image/png": "[encoded data removed]",
      "text/plain": [
       "<Figure size 432x288 with 1 Axes>"
      ]
     },
     "metadata": {
      "needs_background": "light"
     },
     "output_type": "display_data"
    }
   ],
   "source": [
    "#print(action_arr)\n",
    "#plt.scatter(range(N), action_arr)\n",
    "plt.hist(action_arr)"
   ]
  },
  {
   "cell_type": "code",
   "execution_count": null,
   "metadata": {},
   "outputs": [],
   "source": []
  },
  {
   "cell_type": "code",
   "execution_count": 11,
   "metadata": {},
   "outputs": [
    {
     "data": {
      "text/plain": [
       "<matplotlib.collections.PathCollection at 0x7f9ec9500790>"
      ]
     },
     "execution_count": 11,
     "metadata": {},
     "output_type": "execute_result"
    },
    {
     "data": {
      "image/png": "[encoded data removed]",
      "text/plain": [
       "<Figure size 432x288 with 1 Axes>"
      ]
     },
     "metadata": {
      "needs_background": "light"
     },
     "output_type": "display_data"
    }
   ],
   "source": [
    "plt.scatter(range(N), action_arr, s=1)"
   ]
  },
  {
   "cell_type": "code",
   "execution_count": 254,
   "metadata": {},
   "outputs": [],
   "source": [
    "n_genes = 128\n",
    "n_vaccines = 3 # DO NOT CHANGE, breaks the simulator.\n",
    "n_treatments = 4\n",
    "n_population = 10_000\n",
    "n_symptoms = 10\n",
    "\n",
    "# symptom names for easy reference\n",
    "from covid.auxilliary import symptom_names\n",
    "\n",
    "np.random.seed(1)\n",
    "\n",
    "population = Population(n_genes, n_vaccines, n_treatments)\n",
    "X = population.generate(n_population)\n",
    "n_features = X.shape[1]"
   ]
  },
  {
   "cell_type": "code",
   "execution_count": 255,
   "metadata": {},
   "outputs": [],
   "source": [
    "#new_col = X[:,[5,7,8]].sum(axis=1)\n",
    "#new_col0 = new_col > 0\n",
    "#new_col01 = new_col0.astype(int)\n",
    "#new_col01 = np.reshape(new_col01,(n_population,-1))\n",
    "#X_new = np.hstack((X,new_col01))\n",
    "\n"
   ]
  },
  {
   "cell_type": "code",
   "execution_count": 256,
   "metadata": {},
   "outputs": [],
   "source": [
    "action_space = np.array([-1,0,1,2])\n",
    "n_actions = action_space.shape[0]"
   ]
  },
  {
   "cell_type": "code",
   "execution_count": 257,
   "metadata": {},
   "outputs": [
    {
     "name": "stdout",
     "output_type": "stream",
     "text": [
      "Initialising policy with  4 actions\n",
      "A = { [-1  0  1  2] }\n"
     ]
    }
   ],
   "source": [
    "policy = Naive(n_actions, action_space)\n",
    "model = ThompsonSampling(n_actions)\n",
    "policy.set_model(model)\n",
    "\n"
   ]
  },
  {
   "cell_type": "code",
   "execution_count": 258,
   "metadata": {},
   "outputs": [
    {
     "data": {
      "text/plain": [
       "(10000, 11)"
      ]
     },
     "execution_count": 258,
     "metadata": {},
     "output_type": "execute_result"
    }
   ],
   "source": [
    "action_arr = np.zeros(n_population)\n",
    "symptom_arr = np.zeros((n_population, n_symptoms+1))\n",
    "symptom_arr.shape"
   ]
  },
  {
   "cell_type": "code",
   "execution_count": 259,
   "metadata": {},
   "outputs": [
    {
     "name": "stdout",
     "output_type": "stream",
     "text": [
      "With a for loop\n"
     ]
    }
   ],
   "source": [
    "print(\"With a for loop\")\n",
    "# The simplest way to work is to go through every individual in the population\n",
    "for t in range(n_population):\n",
    "    a_t = policy.get_action()\n",
    "    #print(type(a_t))\n",
    "    #a_t = np.int(3)\n",
    "    # Then you can obtain results for everybody\n",
    "    y_t = population.vaccinate([t], a_t.reshape((1, 1)))\n",
    "    #print(y_t.shape)\n",
    "    new_col = y_t[:,[5,7,8]].sum(axis=1)\n",
    "    \n",
    "    #print(y_t)\n",
    "    new_col0 = new_col > 0\n",
    "    new_col01 = new_col0.astype(int)\n",
    "    \n",
    "    #new_col01 = np.reshape(new_col01,(n_population,-1))\n",
    "    \n",
    "    new_col01 = np.reshape(new_col01,(1,-1))\n",
    "    y_t_new = np.hstack((y_t,new_col01))\n",
    "    \n",
    "    # Feed the results back in your policy. This allows you to fit the\n",
    "    # statistical model you have.\n",
    "    #print( y_t_new[:,10])\n",
    "    \n",
    "    policy.observe(a_t, y_t_new[:,10])\n",
    "    #policy.observe(a_t, y_t_new[:,1])\n",
    "    \n",
    "    action_arr[t] = a_t\n",
    "    symptom_arr[t] = y_t_new\n"
   ]
  },
  {
   "cell_type": "code",
   "execution_count": 260,
   "metadata": {},
   "outputs": [
    {
     "name": "stdout",
     "output_type": "stream",
     "text": [
      "[3. 3. 3. ... 1. 0. 1.]\n"
     ]
    }
   ],
   "source": [
    "print(action_arr)"
   ]
  },
  {
   "cell_type": "code",
   "execution_count": 261,
   "metadata": {},
   "outputs": [
    {
     "name": "stdout",
     "output_type": "stream",
     "text": [
      "58.0 1579.0\n",
      "126.0 3676.0\n",
      "18.0 364.0\n",
      "146.0 4041.0\n",
      "0.0354306658521686\n",
      "0.03314045239347712\n",
      "0.04712041884816754\n",
      "0.03486983520420349\n"
     ]
    }
   ],
   "source": [
    "alphas, betas = policy.model.get_params()\n",
    "for i, j in zip(alphas, betas):\n",
    "    print(i,j)\n",
    "print(alphas[0]/(alphas[0] + betas[0]))\n",
    "print(alphas[1]/(alphas[1] + betas[1]))\n",
    "print(alphas[2]/(alphas[2] + betas[2]))\n",
    "print(alphas[3]/(alphas[3] + betas[3]))"
   ]
  },
  {
   "cell_type": "code",
   "execution_count": 262,
   "metadata": {},
   "outputs": [
    {
     "data": {
      "text/plain": [
       "-348.0"
      ]
     },
     "execution_count": 262,
     "metadata": {},
     "output_type": "execute_result"
    }
   ],
   "source": [
    "utility_normal = -sum(alphas)\n",
    "utility_normal"
   ]
  },
  {
   "cell_type": "code",
   "execution_count": 263,
   "metadata": {},
   "outputs": [
    {
     "data": {
      "text/plain": [
       "<matplotlib.legend.Legend at 0x7f9ec95c1640>"
      ]
     },
     "execution_count": 263,
     "metadata": {},
     "output_type": "execute_result"
    },
    {
     "data": {
      "image/png": "[encoded data removed]",
      "text/plain": [
       "<Figure size 432x288 with 1 Axes>"
      ]
     },
     "metadata": {
      "needs_background": "light"
     },
     "output_type": "display_data"
    }
   ],
   "source": [
    "xs = np.linspace(0, 1, 10000)\n",
    "plt.plot(xs, beta.pdf(xs, alphas[0], betas[0]))\n",
    "plt.plot(xs, beta.pdf(xs, alphas[1], betas[1]))\n",
    "plt.plot(xs, beta.pdf(xs, alphas[2], betas[2]))\n",
    "plt.plot(xs, beta.pdf(xs, alphas[3], betas[3]))\n",
    "plt.legend(['0', '1', '2', '3'])\n",
    "\n",
    "#\n"
   ]
  },
  {
   "cell_type": "code",
   "execution_count": 264,
   "metadata": {},
   "outputs": [
    {
     "data": {
      "text/plain": [
       "(array([1635.,    0.,    0., 3800.,    0.,    0.,  380.,    0.,    0.,\n",
       "        4185.]),\n",
       " array([0. , 0.3, 0.6, 0.9, 1.2, 1.5, 1.8, 2.1, 2.4, 2.7, 3. ]),\n",
       " <BarContainer object of 10 artists>)"
      ]
     },
     "execution_count": 264,
     "metadata": {},
     "output_type": "execute_result"
    },
    {
     "data": {
      "image/png": "[encoded data removed]",
      "text/plain": [
       "<Figure size 432x288 with 1 Axes>"
      ]
     },
     "metadata": {
      "needs_background": "light"
     },
     "output_type": "display_data"
    }
   ],
   "source": [
    "plt.hist(action_arr)"
   ]
  },
  {
   "cell_type": "code",
   "execution_count": 265,
   "metadata": {},
   "outputs": [
    {
     "data": {
      "text/plain": [
       "<matplotlib.collections.PathCollection at 0x7f9ece205af0>"
      ]
     },
     "execution_count": 265,
     "metadata": {},
     "output_type": "execute_result"
    },
    {
     "data": {
      "image/png": "[encoded data removed]",
      "text/plain": [
       "<Figure size 432x288 with 1 Axes>"
      ]
     },
     "metadata": {
      "needs_background": "light"
     },
     "output_type": "display_data"
    }
   ],
   "source": [
    "plt.scatter(range(n_population), action_arr, s=1)"
   ]
  },
  {
   "cell_type": "code",
   "execution_count": 266,
   "metadata": {},
   "outputs": [
    {
     "name": "stdout",
     "output_type": "stream",
     "text": [
      "(10000,)\n"
     ]
    }
   ],
   "source": [
    "print(action_arr.shape)\n",
    "\n",
    "def plot_fair_pol(actions, data):\n",
    "    mm = np.where(data[:,11]==1) #male\n",
    "    ff = np.where(data[:,11]==0) #female\n",
    "\n",
    "    m_a = np.take(actions, mm)\n",
    "    m_a = m_a.flatten()\n",
    "\n",
    "    f_a = np.take(actions, ff)\n",
    "    f_a = f_a.flatten()\n",
    "\n",
    "    plt.hist([m_a, f_a],label=['male','female'])\n",
    "    plt.xlabel('Vaccine')\n",
    "    plt.ylabel('Frequency')\n",
    "    plt.title('Vaccines per gender after policy')\n",
    "    plt.legend(loc='upper right')\n",
    "    plt.savefig('figures/fair_policy_plot.png')\n",
    "    plt.show()\n",
    "\n"
   ]
  },
  {
   "cell_type": "code",
   "execution_count": 278,
   "metadata": {},
   "outputs": [
    {
     "data": {
      "image/png": "[encoded data removed]",
      "text/plain": [
       "<Figure size 432x288 with 1 Axes>"
      ]
     },
     "metadata": {
      "needs_background": "light"
     },
     "output_type": "display_data"
    }
   ],
   "source": [
    "plot_fair_pol(action_arr, X)"
   ]
  },
  {
   "cell_type": "markdown",
   "metadata": {},
   "source": [
    "# Thompson with laplace"
   ]
  },
  {
   "cell_type": "code",
   "execution_count": 267,
   "metadata": {},
   "outputs": [],
   "source": [
    "n_genes = 128\n",
    "n_vaccines = 3 # DO NOT CHANGE, breaks the simulator.\n",
    "n_treatments = 4\n",
    "n_population = 10_000\n",
    "n_symptoms = 10\n",
    "\n",
    "# symptom names for easy reference\n",
    "from covid.auxilliary import symptom_names\n",
    "\n",
    "np.random.seed(1)\n",
    "\n",
    "population = Population(n_genes, n_vaccines, n_treatments)\n",
    "X = population.generate(n_population)\n",
    "n_features = X.shape[1]"
   ]
  },
  {
   "cell_type": "code",
   "execution_count": 268,
   "metadata": {},
   "outputs": [],
   "source": [
    "action_space = np.array([-1,0,1,2])\n",
    "n_actions = action_space.shape[0]\n",
    "\n",
    "action_arr_lap = np.zeros(n_population)\n",
    "symptom_arr_lap = np.zeros((n_population, n_symptoms+1))"
   ]
  },
  {
   "cell_type": "code",
   "execution_count": 269,
   "metadata": {},
   "outputs": [
    {
     "name": "stdout",
     "output_type": "stream",
     "text": [
      "Initialising policy with  4 actions\n",
      "A = { [-1  0  1  2] }\n"
     ]
    }
   ],
   "source": [
    "policy_l = Naive(n_actions, action_space)\n",
    "model_l = ThompsonSampling(n_actions)\n",
    "policy_l.set_model(model)\n",
    "\n"
   ]
  },
  {
   "cell_type": "code",
   "execution_count": null,
   "metadata": {},
   "outputs": [],
   "source": []
  },
  {
   "cell_type": "code",
   "execution_count": 270,
   "metadata": {},
   "outputs": [
    {
     "name": "stdout",
     "output_type": "stream",
     "text": [
      "With a for loop\n"
     ]
    }
   ],
   "source": [
    "print(\"With a for loop\")\n",
    "# The simplest way to work is to go through every individual in the population\n",
    "for t in range(n_population):\n",
    "    a_t = policy_l.get_action()\n",
    "\n",
    "    # Then you can obtain results for everybody\n",
    "    y_t = population.vaccinate([t], a_t.reshape((1, 1)))\n",
    "\n",
    "    new_col = y_t[:,[5,7,8]].sum(axis=1)\n",
    "\n",
    "    new_col0 = new_col > 0\n",
    "    new_col01 = new_col0.astype(int)\n",
    "\n",
    "    new_col01 = np.reshape(new_col01,(1,-1))\n",
    "    y_t_new = np.hstack((y_t,new_col01))\n",
    "    \n",
    "    # Feed the results back in your policy. This allows you to fit the\n",
    "    # statistical model you have.\n",
    "    \n",
    "    policy_l.observe_with_laplace(a_t, y_t_new[:,10])\n",
    "    #policy.observe(a_t, y_t_new[:,1])\n",
    "    \n",
    "    action_arr_lap[t] = a_t\n",
    "    symptom_arr_lap[t] = y_t_new"
   ]
  },
  {
   "cell_type": "code",
   "execution_count": 271,
   "metadata": {},
   "outputs": [
    {
     "name": "stdout",
     "output_type": "stream",
     "text": [
      "142.49802833539425 3757.5019716646075\n",
      "261.14442632401193 7199.8555736759945\n",
      "64.81713641433676 1660.1828635856637\n",
      "243.64451720493534 6678.355482795076\n",
      "0.03653795598343441\n",
      "0.035001263412948895\n",
      "0.03757515154454304\n"
     ]
    }
   ],
   "source": [
    "alphas_l, betas_l = policy_l.model.get_params()\n",
    "for i, j in zip(alphas_l, betas_l):\n",
    "    print(i,j)\n",
    "print(alphas_l[0]/(alphas_l[0] + betas_l[0]))\n",
    "print(alphas_l[1]/(alphas_l[1] + betas_l[1]))\n",
    "print(alphas_l[2]/(alphas_l[2] + betas_l[2]))"
   ]
  },
  {
   "cell_type": "code",
   "execution_count": 272,
   "metadata": {},
   "outputs": [
    {
     "data": {
      "text/plain": [
       "(array([2263.,    0.,    0., 3659.,    0.,    0., 1343.,    0.,    0.,\n",
       "        2735.]),\n",
       " array([0. , 0.3, 0.6, 0.9, 1.2, 1.5, 1.8, 2.1, 2.4, 2.7, 3. ]),\n",
       " <BarContainer object of 10 artists>)"
      ]
     },
     "execution_count": 272,
     "metadata": {},
     "output_type": "execute_result"
    },
    {
     "data": {
      "image/png": "[encoded data removed]",
      "text/plain": [
       "<Figure size 432x288 with 1 Axes>"
      ]
     },
     "metadata": {
      "needs_background": "light"
     },
     "output_type": "display_data"
    }
   ],
   "source": [
    "plt.hist(action_arr_lap)"
   ]
  },
  {
   "cell_type": "code",
   "execution_count": null,
   "metadata": {},
   "outputs": [],
   "source": []
  },
  {
   "cell_type": "markdown",
   "metadata": {},
   "source": [
    "# Utility"
   ]
  },
  {
   "cell_type": "code",
   "execution_count": 273,
   "metadata": {},
   "outputs": [],
   "source": [
    "utility_laplace = -sum(alphas_l)"
   ]
  },
  {
   "cell_type": "code",
   "execution_count": 274,
   "metadata": {},
   "outputs": [
    {
     "data": {
      "text/plain": [
       "-712.1041082786783"
      ]
     },
     "execution_count": 274,
     "metadata": {},
     "output_type": "execute_result"
    }
   ],
   "source": [
    "utility_laplace"
   ]
  },
  {
   "cell_type": "code",
   "execution_count": 275,
   "metadata": {},
   "outputs": [],
   "source": [
    "#utility_normal = -sum(alphas)"
   ]
  },
  {
   "cell_type": "code",
   "execution_count": 276,
   "metadata": {},
   "outputs": [
    {
     "data": {
      "text/plain": [
       "-348.0"
      ]
     },
     "execution_count": 276,
     "metadata": {},
     "output_type": "execute_result"
    }
   ],
   "source": [
    "utility_normal"
   ]
  },
  {
   "cell_type": "code",
   "execution_count": 277,
   "metadata": {},
   "outputs": [
    {
     "data": {
      "text/plain": [
       "array([142.49802834, 261.14442632,  64.81713641, 243.6445172 ])"
      ]
     },
     "execution_count": 277,
     "metadata": {},
     "output_type": "execute_result"
    }
   ],
   "source": [
    "alphas"
   ]
  },
  {
   "cell_type": "code",
   "execution_count": null,
   "metadata": {},
   "outputs": [],
   "source": []
  }
 ],
 "metadata": {
  "interpreter": {
   "hash": "51600fd56a40f342b1560ff0a624a3ca9526e59d8d11c813ce0c927098550455"
  },
  "kernelspec": {
   "display_name": "Python 3",
   "language": "python",
   "name": "python3"
  },
  "language_info": {
   "codemirror_mode": {
    "name": "ipython",
    "version": 3
   },
   "file_extension": ".py",
   "mimetype": "text/x-python",
   "name": "python",
   "nbconvert_exporter": "python",
   "pygments_lexer": "ipython3",
   "version": "3.8.8"
  }
 },
 "nbformat": 4,
 "nbformat_minor": 2
}
