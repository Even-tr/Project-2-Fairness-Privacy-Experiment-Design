{
 "cells": [
  {
   "cell_type": "code",
   "execution_count": 2,
   "metadata": {},
   "outputs": [],
   "source": [
    "from covid.simulator import Population\n",
    "from covid.auxilliary import symptom_names\n",
    "import numpy as np\n",
    "import pandas as pd\n",
    "import matplotlib.pyplot as plt\n",
    "\n",
    "from covid.policy import Policy\n",
    "from scipy.stats import beta, bernoulli, uniform"
   ]
  },
  {
   "cell_type": "code",
   "execution_count": 3,
   "metadata": {},
   "outputs": [
    {
     "data": {
      "text/plain": [
       "-0.19614104708356772"
      ]
     },
     "execution_count": 3,
     "metadata": {},
     "output_type": "execute_result"
    }
   ],
   "source": [
    "np.random.laplace(0,0.1)"
   ]
  },
  {
   "cell_type": "code",
   "execution_count": 4,
   "metadata": {},
   "outputs": [],
   "source": [
    "class ThompsonSampling:\n",
    "    def __init__(self, nvacc):\n",
    "        # Priors for the beta-bernoulli model\n",
    "        self.a = np.ones(nvacc) # uniform prior\n",
    "        self.b = np.ones(nvacc) # uniform prior\n",
    "        self.nvacc = nvacc\n",
    "\n",
    "    def update(self, action, outcome):\n",
    "        self.a[action] += outcome\n",
    "        self.b[action] += 1 - outcome\n",
    "    \n",
    "    def update_with_laplace(self, action, outcome):\n",
    "        outcome = outcome + np.random.laplace(0, 0.1)\n",
    "        self.a[action] += outcome\n",
    "        self.b[action] += 1 - outcome\n",
    "    \n",
    "    def get_params(self):\n",
    "        # Returns the parameters of all the beta distrobutions.\n",
    "        return self.a, self.b\n",
    "\n",
    "    def get_prob(self):\n",
    "        return beta.rvs(self.a, self.b)"
   ]
  },
  {
   "cell_type": "code",
   "execution_count": 5,
   "metadata": {},
   "outputs": [],
   "source": [
    "class Naive(Policy):\n",
    "    def set_model(self, model):\n",
    "        self.model = model\n",
    "    \n",
    "    def get_action(self):\n",
    "        probs = self.model.get_prob()\n",
    "        \n",
    "        #print(probs)\n",
    "        ret_val = np.argmin(probs)\n",
    "        #print(ret_val)\n",
    "        #print(ret_val)\n",
    "        return ret_val\n",
    "\n",
    "    def observe(self, action, outcome):\n",
    "        self.model.update(action, outcome)\n",
    "        \n",
    "    def observe_with_laplace(self, action, outcome):\n",
    "        self.model.update_with_laplace(action, outcome)\n"
   ]
  },
  {
   "cell_type": "code",
   "execution_count": 6,
   "metadata": {},
   "outputs": [],
   "source": [
    "class NaiveForExample(Policy):\n",
    "    def set_model(self, model):\n",
    "        self.model = model\n",
    "    \n",
    "    def get_action(self):\n",
    "        probs = self.model.get_prob()\n",
    "        \n",
    "        #print(probs)\n",
    "        ret_val = np.argmax(probs)\n",
    "        #print(ret_val)\n",
    "        #print(ret_val)\n",
    "        return ret_val\n",
    "\n",
    "    def observe(self, action, outcome):\n",
    "        self.model.update(action, outcome)\n",
    "        \n",
    "    def observe_with_laplace(self, action, outcome):\n",
    "        self.model.update_with_laplace(action, outcome)\n",
    "        "
   ]
  },
  {
   "cell_type": "code",
   "execution_count": 7,
   "metadata": {},
   "outputs": [],
   "source": [
    "thetas = np.array([0.8, 0.75, 0.85])"
   ]
  },
  {
   "cell_type": "code",
   "execution_count": 8,
   "metadata": {},
   "outputs": [],
   "source": [
    "n_genes = 128\n",
    "n_vaccines = 3\n",
    "n_treatment = 4\n",
    "#population = Population(n_genes, n_vaccines, n_treatment)\n",
    "N = 10000\n",
    "#X = population.generate(N)"
   ]
  },
  {
   "cell_type": "code",
   "execution_count": 9,
   "metadata": {},
   "outputs": [
    {
     "name": "stdout",
     "output_type": "stream",
     "text": [
      "Initialising policy with  3 actions\n",
      "A = { [0, 1, 2] }\n",
      "114.0 34.0\n",
      "76.0 28.0\n",
      "8338.0 1416.0\n",
      "0.7702702702702703\n",
      "0.7307692307692307\n",
      "0.8548287881894607\n"
     ]
    }
   ],
   "source": [
    "policy = NaiveForExample(n_actions=3, action_set=[0, 1, 2])\n",
    "model = ThompsonSampling(nvacc=3)\n",
    "policy.set_model(model)\n",
    "\n",
    "action_arr = np.zeros(N)\n",
    "symptom_arr = np.zeros(N)\n",
    "\n",
    "for i in range(N):\n",
    "    action = policy.get_action()\n",
    "    #print(thetas[action])\n",
    "    reward = bernoulli.rvs(thetas[action])\n",
    "    #print(reward)\n",
    "    policy.observe(action, reward)\n",
    "    action_arr[i] = action\n",
    "    symptom_arr[i] = reward\n",
    "\n",
    "    #print(action, reward)\n",
    "    #policy.observe(action, reward)\n",
    "    #print(action)\n",
    "\n",
    "alphas, betas = policy.model.get_params()\n",
    "for i, j in zip(alphas, betas):\n",
    "    print(i,j)\n",
    "print(alphas[0]/(alphas[0] + betas[0]))\n",
    "print(alphas[1]/(alphas[1] + betas[1]))\n",
    "print(alphas[2]/(alphas[2] + betas[2]))\n"
   ]
  },
  {
   "cell_type": "code",
   "execution_count": 10,
   "metadata": {},
   "outputs": [],
   "source": [
    "#print(action_arr)\n",
    "#plt.scatter(range(N), action_arr)\n",
    "def plot_action_known_theta(actions):\n",
    "    plt.hist(actions)\n",
    "    plt.xlabel('Bandit')\n",
    "    plt.ylabel('Frequency')\n",
    "    plt.title('Banidts played known probability')\n",
    "    #plt.legend(loc='upper right')\n",
    "    plt.savefig('figures/banidts_played_known_prob_hist.png')\n",
    "    plt.show()"
   ]
  },
  {
   "cell_type": "code",
   "execution_count": 11,
   "metadata": {},
   "outputs": [
    {
     "data": {
      "image/png": "[encoded data removed]",
      "text/plain": [
       "<Figure size 432x288 with 1 Axes>"
      ]
     },
     "metadata": {
      "needs_background": "light"
     },
     "output_type": "display_data"
    }
   ],
   "source": [
    "plot_action_known_theta(action_arr)"
   ]
  },
  {
   "cell_type": "code",
   "execution_count": 12,
   "metadata": {},
   "outputs": [],
   "source": [
    "def plot_bandits_played_time(actions, N):\n",
    "    plt.scatter(range(N), actions, s=1)\n",
    "    plt.ylabel('Bandit played')\n",
    "    plt.xlabel('Simulation time')\n",
    "    plt.title('Banidts played known probability over time')\n",
    "    #plt.legend(loc='upper right')\n",
    "    plt.savefig('figures/banidts_played_known_prob_over_time.png')\n",
    "    plt.show()"
   ]
  },
  {
   "cell_type": "code",
   "execution_count": 13,
   "metadata": {},
   "outputs": [
    {
     "data": {
      "image/png": "[encoded data removed]",
      "text/plain": [
       "<Figure size 432x288 with 1 Axes>"
      ]
     },
     "metadata": {
      "needs_background": "light"
     },
     "output_type": "display_data"
    }
   ],
   "source": [
    "plot_bandits_played_time(action_arr, N)"
   ]
  },
  {
   "cell_type": "code",
   "execution_count": 14,
   "metadata": {},
   "outputs": [],
   "source": [
    "n_genes = 128\n",
    "n_vaccines = 3 # DO NOT CHANGE, breaks the simulator.\n",
    "n_treatments = 4\n",
    "n_population = 10_000\n",
    "n_symptoms = 10\n",
    "\n",
    "# symptom names for easy reference\n",
    "from covid.auxilliary import symptom_names\n",
    "\n",
    "np.random.seed(1)\n",
    "\n",
    "population = Population(n_genes, n_vaccines, n_treatments)\n",
    "X = population.generate(n_population)\n",
    "n_features = X.shape[1]"
   ]
  },
  {
   "cell_type": "code",
   "execution_count": 15,
   "metadata": {},
   "outputs": [],
   "source": [
    "#new_col = X[:,[5,7,8]].sum(axis=1)\n",
    "#new_col0 = new_col > 0\n",
    "#new_col01 = new_col0.astype(int)\n",
    "#new_col01 = np.reshape(new_col01,(n_population,-1))\n",
    "#X_new = np.hstack((X,new_col01))\n",
    "\n"
   ]
  },
  {
   "cell_type": "code",
   "execution_count": 16,
   "metadata": {},
   "outputs": [],
   "source": [
    "action_space = np.array([-1,0,1,2])\n",
    "n_actions = action_space.shape[0]"
   ]
  },
  {
   "cell_type": "code",
   "execution_count": 17,
   "metadata": {},
   "outputs": [
    {
     "name": "stdout",
     "output_type": "stream",
     "text": [
      "Initialising policy with  4 actions\n",
      "A = { [-1  0  1  2] }\n"
     ]
    }
   ],
   "source": [
    "policy = Naive(n_actions, action_space)\n",
    "model = ThompsonSampling(n_actions)\n",
    "policy.set_model(model)\n",
    "\n"
   ]
  },
  {
   "cell_type": "code",
   "execution_count": 18,
   "metadata": {},
   "outputs": [
    {
     "data": {
      "text/plain": [
       "(10000, 11)"
      ]
     },
     "execution_count": 18,
     "metadata": {},
     "output_type": "execute_result"
    }
   ],
   "source": [
    "action_arr = np.zeros(n_population)\n",
    "symptom_arr = np.zeros((n_population, n_symptoms+1))\n",
    "symptom_arr.shape"
   ]
  },
  {
   "cell_type": "code",
   "execution_count": 19,
   "metadata": {},
   "outputs": [
    {
     "name": "stdout",
     "output_type": "stream",
     "text": [
      "With a for loop\n"
     ]
    }
   ],
   "source": [
    "print(\"With a for loop\")\n",
    "# The simplest way to work is to go through every individual in the population\n",
    "for t in range(n_population):\n",
    "    a_t = policy.get_action()\n",
    "    #print(type(a_t))\n",
    "    #a_t = np.int(3)\n",
    "    # Then you can obtain results for everybody\n",
    "    y_t = population.vaccinate([t], a_t.reshape((1, 1)))\n",
    "    #print(y_t.shape)\n",
    "    new_col = y_t[:,[5,7,8]].sum(axis=1)\n",
    "    \n",
    "    #print(y_t)\n",
    "    new_col0 = new_col > 0\n",
    "    new_col01 = new_col0.astype(int)\n",
    "    \n",
    "    #new_col01 = np.reshape(new_col01,(n_population,-1))\n",
    "    \n",
    "    new_col01 = np.reshape(new_col01,(1,-1))\n",
    "    y_t_new = np.hstack((y_t,new_col01))\n",
    "    \n",
    "    # Feed the results back in your policy. This allows you to fit the\n",
    "    # statistical model you have.\n",
    "    #print( y_t_new[:,10])\n",
    "    \n",
    "    policy.observe(a_t, y_t_new[:,10])\n",
    "    #policy.observe(a_t, y_t_new[:,1])\n",
    "    \n",
    "    action_arr[t] = a_t\n",
    "    symptom_arr[t] = y_t_new\n"
   ]
  },
  {
   "cell_type": "code",
   "execution_count": 20,
   "metadata": {},
   "outputs": [
    {
     "name": "stdout",
     "output_type": "stream",
     "text": [
      "[3. 3. 3. ... 1. 0. 1.]\n"
     ]
    }
   ],
   "source": [
    "print(action_arr)"
   ]
  },
  {
   "cell_type": "code",
   "execution_count": 21,
   "metadata": {},
   "outputs": [
    {
     "name": "stdout",
     "output_type": "stream",
     "text": [
      "58.0 1579.0\n",
      "126.0 3676.0\n",
      "18.0 364.0\n",
      "146.0 4041.0\n",
      "0.0354306658521686\n",
      "0.03314045239347712\n",
      "0.04712041884816754\n",
      "0.03486983520420349\n"
     ]
    }
   ],
   "source": [
    "alphas, betas = policy.model.get_params()\n",
    "for i, j in zip(alphas, betas):\n",
    "    print(i,j)\n",
    "print(alphas[0]/(alphas[0] + betas[0]))\n",
    "print(alphas[1]/(alphas[1] + betas[1]))\n",
    "print(alphas[2]/(alphas[2] + betas[2]))\n",
    "print(alphas[3]/(alphas[3] + betas[3]))"
   ]
  },
  {
   "cell_type": "code",
   "execution_count": 22,
   "metadata": {},
   "outputs": [
    {
     "data": {
      "text/plain": [
       "-348.0"
      ]
     },
     "execution_count": 22,
     "metadata": {},
     "output_type": "execute_result"
    }
   ],
   "source": [
    "utility_normal = -sum(alphas)\n",
    "utility_normal"
   ]
  },
  {
   "cell_type": "code",
   "execution_count": 23,
   "metadata": {},
   "outputs": [
    {
     "data": {
      "text/plain": [
       "<matplotlib.legend.Legend at 0x7f91780fde80>"
      ]
     },
     "execution_count": 23,
     "metadata": {},
     "output_type": "execute_result"
    },
    {
     "data": {
      "image/png": "[encoded data removed]",
      "text/plain": [
       "<Figure size 432x288 with 1 Axes>"
      ]
     },
     "metadata": {
      "needs_background": "light"
     },
     "output_type": "display_data"
    }
   ],
   "source": [
    "xs = np.linspace(0, 1, 10000)\n",
    "plt.plot(xs, beta.pdf(xs, alphas[0], betas[0]))\n",
    "plt.plot(xs, beta.pdf(xs, alphas[1], betas[1]))\n",
    "plt.plot(xs, beta.pdf(xs, alphas[2], betas[2]))\n",
    "plt.plot(xs, beta.pdf(xs, alphas[3], betas[3]))\n",
    "plt.legend(['0', '1', '2', '3'])\n",
    "\n",
    "#\n"
   ]
  },
  {
   "cell_type": "code",
   "execution_count": 24,
   "metadata": {},
   "outputs": [],
   "source": [
    "def plot_thompson_pol(actions):\n",
    "    #plt.hist(action_arr)\n",
    "    plt.hist(actions)#, label=['0','1','2','3'])\n",
    "    plt.xlabel('Vaccine')\n",
    "    plt.ylabel('Frequency')\n",
    "    plt.title('Vaccines after thopson policy')\n",
    "    #plt.legend(loc='upper right')\n",
    "    plt.savefig('figures/vaccines_thompson_policy.png')\n",
    "    plt.show()"
   ]
  },
  {
   "cell_type": "code",
   "execution_count": 25,
   "metadata": {},
   "outputs": [
    {
     "data": {
      "image/png": "[encoded data removed]",
      "text/plain": [
       "<Figure size 432x288 with 1 Axes>"
      ]
     },
     "metadata": {
      "needs_background": "light"
     },
     "output_type": "display_data"
    }
   ],
   "source": [
    "plot_thompson_pol(action_arr)"
   ]
  },
  {
   "cell_type": "code",
   "execution_count": 26,
   "metadata": {},
   "outputs": [
    {
     "data": {
      "text/plain": [
       "<matplotlib.collections.PathCollection at 0x7f917852a9d0>"
      ]
     },
     "execution_count": 26,
     "metadata": {},
     "output_type": "execute_result"
    },
    {
     "data": {
      "image/png": "[encoded data removed]",
      "text/plain": [
       "<Figure size 432x288 with 1 Axes>"
      ]
     },
     "metadata": {
      "needs_background": "light"
     },
     "output_type": "display_data"
    }
   ],
   "source": [
    "plt.scatter(range(n_population), action_arr, s=1)"
   ]
  },
  {
   "cell_type": "code",
   "execution_count": 27,
   "metadata": {},
   "outputs": [
    {
     "name": "stdout",
     "output_type": "stream",
     "text": [
      "(10000,)\n"
     ]
    }
   ],
   "source": [
    "print(action_arr.shape)\n",
    "\n",
    "def plot_fair_pol(actions, data):\n",
    "    mm = np.where(data[:,11]==1) #male\n",
    "    ff = np.where(data[:,11]==0) #female\n",
    "\n",
    "    m_a = np.take(actions, mm)\n",
    "    m_a = m_a.flatten()\n",
    "\n",
    "    f_a = np.take(actions, ff)\n",
    "    f_a = f_a.flatten()\n",
    "\n",
    "    plt.hist([m_a, f_a],label=['male','female'])\n",
    "    plt.xlabel('Vaccine')\n",
    "    plt.ylabel('Frequency')\n",
    "    plt.title('Vaccines per gender after policy')\n",
    "    plt.legend(loc='upper right')\n",
    "    plt.savefig('figures/fair_policy_plot.png')\n",
    "    plt.show()\n",
    "\n"
   ]
  },
  {
   "cell_type": "code",
   "execution_count": 28,
   "metadata": {},
   "outputs": [
    {
     "data": {
      "image/png": "[encoded data removed]",
      "text/plain": [
       "<Figure size 432x288 with 1 Axes>"
      ]
     },
     "metadata": {
      "needs_background": "light"
     },
     "output_type": "display_data"
    }
   ],
   "source": [
    "plot_fair_pol(action_arr, X)"
   ]
  },
  {
   "cell_type": "code",
   "execution_count": 29,
   "metadata": {},
   "outputs": [],
   "source": [
    "def plot_vacc_age(data, actions):\n",
    "    vacc_0 = np.where(actions==0) #no vaccine\n",
    "    vacc_1 = np.where(actions==1) #vaccine 1\n",
    "    vacc_2 = np.where(actions==2) #vaccine 2\n",
    "    vacc_3 = np.where(actions==3) #vaccine 3\n",
    "    \n",
    "    v0_vacc = np.take(data[:,10], vacc_0)\n",
    "    v0_vacc = v0_vacc.flatten()\n",
    "    \n",
    "    v1_vacc = np.take(data[:,10], vacc_1)\n",
    "    v1_vacc = v1_vacc.flatten()\n",
    "\n",
    "    v2_vacc = np.take(data[:,10], vacc_2)\n",
    "    v2_vacc = v2_vacc.flatten()\n",
    "    \n",
    "    v3_vacc = np.take(data[:,10], vacc_3)\n",
    "    v3_vacc = v3_vacc.flatten()\n",
    "\n",
    "\n",
    "    #f_a = np.take(actions, ff)\n",
    "    #f_a = f_a.flatten()\n",
    "    \n",
    "    plt.hist([v0_vacc, v1_vacc, v2_vacc, v3_vacc],label=['vaccine 0','vaccine 1','vaccine 2','vaccine 3'], bins=20, stacked=True)\n",
    "    plt.xlabel('Age')\n",
    "    plt.ylabel('Frequency')\n",
    "    plt.title('Vaccines per age after policy')\n",
    "    plt.legend(loc='upper right')\n",
    "    plt.savefig('figures/fair_age_plot.png')\n",
    "    plt.show()\n",
    "    "
   ]
  },
  {
   "cell_type": "code",
   "execution_count": 30,
   "metadata": {},
   "outputs": [
    {
     "data": {
      "image/png": "[encoded data removed]",
      "text/plain": [
       "<Figure size 432x288 with 1 Axes>"
      ]
     },
     "metadata": {
      "needs_background": "light"
     },
     "output_type": "display_data"
    }
   ],
   "source": [
    "plot_vacc_age(X, action_arr)"
   ]
  },
  {
   "cell_type": "code",
   "execution_count": 31,
   "metadata": {},
   "outputs": [],
   "source": [
    "def plot_vacc_inc(data, actions):\n",
    "    vacc_0 = np.where(actions==0) #no vaccine\n",
    "    vacc_1 = np.where(actions==1) #vaccine 1\n",
    "    vacc_2 = np.where(actions==2) #vaccine 2\n",
    "    vacc_3 = np.where(actions==3) #vaccine 3\n",
    "    \n",
    "    v0_vacc = np.take(data[:,12], vacc_0)\n",
    "    v0_vacc = v0_vacc.flatten()\n",
    "    \n",
    "    v1_vacc = np.take(data[:,12], vacc_1)\n",
    "    v1_vacc = v1_vacc.flatten()\n",
    "\n",
    "    v2_vacc = np.take(data[:,12], vacc_2)\n",
    "    v2_vacc = v2_vacc.flatten()\n",
    "    \n",
    "    v3_vacc = np.take(data[:,12], vacc_3)\n",
    "    v3_vacc = v3_vacc.flatten()\n",
    "\n",
    "\n",
    "    #f_a = np.take(actions, ff)\n",
    "    #f_a = f_a.flatten()\n",
    "    \n",
    "    plt.hist([v0_vacc, v1_vacc, v2_vacc, v3_vacc],label=['vaccine 0','vaccine 1','vaccine 2','vaccine 3'], bins=20, stacked=True)\n",
    "    plt.xlabel('Age')\n",
    "    plt.ylabel('Frequency')\n",
    "    plt.title('Vaccines per income after policy')\n",
    "    plt.legend(loc='upper right')\n",
    "    plt.savefig('figures/fairnes_salary_plot.png')\n",
    "    plt.show()\n",
    "    "
   ]
  },
  {
   "cell_type": "code",
   "execution_count": 32,
   "metadata": {},
   "outputs": [
    {
     "data": {
      "image/png": "[encoded data removed]",
      "text/plain": [
       "<Figure size 432x288 with 1 Axes>"
      ]
     },
     "metadata": {
      "needs_background": "light"
     },
     "output_type": "display_data"
    }
   ],
   "source": [
    "plot_vacc_inc(X, action_arr)"
   ]
  },
  {
   "cell_type": "code",
   "execution_count": null,
   "metadata": {},
   "outputs": [],
   "source": []
  },
  {
   "cell_type": "code",
   "execution_count": null,
   "metadata": {},
   "outputs": [],
   "source": []
  },
  {
   "cell_type": "code",
   "execution_count": null,
   "metadata": {},
   "outputs": [],
   "source": []
  },
  {
   "cell_type": "code",
   "execution_count": null,
   "metadata": {},
   "outputs": [],
   "source": []
  },
  {
   "cell_type": "code",
   "execution_count": null,
   "metadata": {},
   "outputs": [],
   "source": []
  },
  {
   "cell_type": "code",
   "execution_count": null,
   "metadata": {},
   "outputs": [],
   "source": []
  },
  {
   "cell_type": "markdown",
   "metadata": {},
   "source": [
    "# Thompson with laplace"
   ]
  },
  {
   "cell_type": "code",
   "execution_count": 33,
   "metadata": {},
   "outputs": [],
   "source": [
    "n_genes = 128\n",
    "n_vaccines = 3 # DO NOT CHANGE, breaks the simulator.\n",
    "n_treatments = 4\n",
    "n_population = 10_000\n",
    "n_symptoms = 10\n",
    "\n",
    "# symptom names for easy reference\n",
    "from covid.auxilliary import symptom_names\n",
    "\n",
    "np.random.seed(1)\n",
    "\n",
    "population = Population(n_genes, n_vaccines, n_treatments)\n",
    "X = population.generate(n_population)\n",
    "n_features = X.shape[1]"
   ]
  },
  {
   "cell_type": "code",
   "execution_count": 34,
   "metadata": {},
   "outputs": [],
   "source": [
    "action_space = np.array([-1,0,1,2])\n",
    "n_actions = action_space.shape[0]\n",
    "\n",
    "action_arr_lap = np.zeros(n_population)\n",
    "symptom_arr_lap = np.zeros((n_population, n_symptoms+1))"
   ]
  },
  {
   "cell_type": "code",
   "execution_count": 35,
   "metadata": {},
   "outputs": [
    {
     "name": "stdout",
     "output_type": "stream",
     "text": [
      "Initialising policy with  4 actions\n",
      "A = { [-1  0  1  2] }\n"
     ]
    }
   ],
   "source": [
    "policy_l = Naive(n_actions, action_space)\n",
    "model_l = ThompsonSampling(n_actions)\n",
    "policy_l.set_model(model)\n",
    "\n"
   ]
  },
  {
   "cell_type": "code",
   "execution_count": null,
   "metadata": {},
   "outputs": [],
   "source": []
  },
  {
   "cell_type": "code",
   "execution_count": 36,
   "metadata": {},
   "outputs": [
    {
     "name": "stdout",
     "output_type": "stream",
     "text": [
      "With a for loop\n"
     ]
    }
   ],
   "source": [
    "print(\"With a for loop\")\n",
    "# The simplest way to work is to go through every individual in the population\n",
    "for t in range(n_population):\n",
    "    a_t = policy_l.get_action()\n",
    "\n",
    "    # Then you can obtain results for everybody\n",
    "    y_t = population.vaccinate([t], a_t.reshape((1, 1)))\n",
    "\n",
    "    new_col = y_t[:,[5,7,8]].sum(axis=1)\n",
    "\n",
    "    new_col0 = new_col > 0\n",
    "    new_col01 = new_col0.astype(int)\n",
    "\n",
    "    new_col01 = np.reshape(new_col01,(1,-1))\n",
    "    y_t_new = np.hstack((y_t,new_col01))\n",
    "    \n",
    "    # Feed the results back in your policy. This allows you to fit the\n",
    "    # statistical model you have.\n",
    "    \n",
    "    policy_l.observe_with_laplace(a_t, y_t_new[:,10])\n",
    "    #policy.observe(a_t, y_t_new[:,1])\n",
    "    \n",
    "    action_arr_lap[t] = a_t\n",
    "    symptom_arr_lap[t] = y_t_new"
   ]
  },
  {
   "cell_type": "code",
   "execution_count": 37,
   "metadata": {},
   "outputs": [
    {
     "name": "stdout",
     "output_type": "stream",
     "text": [
      "142.49802833539425 3757.5019716646075\n",
      "261.14442632401193 7199.8555736759945\n",
      "64.81713641433676 1660.1828635856637\n",
      "243.64451720493534 6678.355482795076\n",
      "0.03653795598343441\n",
      "0.035001263412948895\n",
      "0.03757515154454304\n"
     ]
    }
   ],
   "source": [
    "alphas_l, betas_l = policy_l.model.get_params()\n",
    "for i, j in zip(alphas_l, betas_l):\n",
    "    print(i,j)\n",
    "print(alphas_l[0]/(alphas_l[0] + betas_l[0]))\n",
    "print(alphas_l[1]/(alphas_l[1] + betas_l[1]))\n",
    "print(alphas_l[2]/(alphas_l[2] + betas_l[2]))"
   ]
  },
  {
   "cell_type": "code",
   "execution_count": 38,
   "metadata": {},
   "outputs": [
    {
     "data": {
      "text/plain": [
       "(array([2263.,    0.,    0., 3659.,    0.,    0., 1343.,    0.,    0.,\n",
       "        2735.]),\n",
       " array([0. , 0.3, 0.6, 0.9, 1.2, 1.5, 1.8, 2.1, 2.4, 2.7, 3. ]),\n",
       " <BarContainer object of 10 artists>)"
      ]
     },
     "execution_count": 38,
     "metadata": {},
     "output_type": "execute_result"
    },
    {
     "data": {
      "image/png": "[encoded data removed]",
      "text/plain": [
       "<Figure size 432x288 with 1 Axes>"
      ]
     },
     "metadata": {
      "needs_background": "light"
     },
     "output_type": "display_data"
    }
   ],
   "source": [
    "plt.hist(action_arr_lap)"
   ]
  },
  {
   "cell_type": "code",
   "execution_count": null,
   "metadata": {},
   "outputs": [],
   "source": []
  },
  {
   "cell_type": "markdown",
   "metadata": {},
   "source": [
    "# Utility"
   ]
  },
  {
   "cell_type": "code",
   "execution_count": 39,
   "metadata": {},
   "outputs": [],
   "source": [
    "utility_laplace = -sum(alphas_l)"
   ]
  },
  {
   "cell_type": "code",
   "execution_count": 40,
   "metadata": {},
   "outputs": [
    {
     "data": {
      "text/plain": [
       "-712.1041082786783"
      ]
     },
     "execution_count": 40,
     "metadata": {},
     "output_type": "execute_result"
    }
   ],
   "source": [
    "utility_laplace"
   ]
  },
  {
   "cell_type": "code",
   "execution_count": 41,
   "metadata": {},
   "outputs": [],
   "source": [
    "#utility_normal = -sum(alphas)"
   ]
  },
  {
   "cell_type": "code",
   "execution_count": 42,
   "metadata": {},
   "outputs": [
    {
     "data": {
      "text/plain": [
       "-348.0"
      ]
     },
     "execution_count": 42,
     "metadata": {},
     "output_type": "execute_result"
    }
   ],
   "source": [
    "utility_normal"
   ]
  },
  {
   "cell_type": "code",
   "execution_count": 43,
   "metadata": {},
   "outputs": [
    {
     "data": {
      "text/plain": [
       "array([142.49802834, 261.14442632,  64.81713641, 243.6445172 ])"
      ]
     },
     "execution_count": 43,
     "metadata": {},
     "output_type": "execute_result"
    }
   ],
   "source": [
    "alphas"
   ]
  },
  {
   "cell_type": "markdown",
   "metadata": {},
   "source": [
    "# Experiment design"
   ]
  },
  {
   "cell_type": "markdown",
   "metadata": {},
   "source": [
    "## historical"
   ]
  },
  {
   "cell_type": "code",
   "execution_count": 44,
   "metadata": {},
   "outputs": [],
   "source": [
    "n_genes = 128\n",
    "n_vaccines = 3 # DO NOT CHANGE, breaks the simulator.\n",
    "n_treatments = 4\n",
    "n_population = 10_000\n",
    "n_symptoms = 10\n",
    "\n",
    "# symptom names for easy reference\n",
    "from covid.auxilliary import symptom_names\n",
    "\n",
    "np.random.seed(1)\n",
    "\n",
    "population = Population(n_genes, n_vaccines, n_treatments)\n",
    "X = population.generate(n_population)\n",
    "n_features = X.shape[1]"
   ]
  },
  {
   "cell_type": "code",
   "execution_count": 45,
   "metadata": {},
   "outputs": [],
   "source": [
    "new_col = X[:,[5,7,8]].sum(axis=1)\n",
    "new_col0 = new_col > 0\n",
    "new_col01 = new_col0.astype(int)\n",
    "new_col01 = np.reshape(new_col01,(n_population,-1))\n",
    "X_new = np.hstack((X,new_col01))\n",
    "\n",
    "hist_pol_utility = -X_new[:,150].sum(axis=0)"
   ]
  },
  {
   "cell_type": "code",
   "execution_count": 46,
   "metadata": {},
   "outputs": [
    {
     "data": {
      "text/plain": [
       "-243.0"
      ]
     },
     "execution_count": 46,
     "metadata": {},
     "output_type": "execute_result"
    }
   ],
   "source": [
    "hist_pol_utility"
   ]
  },
  {
   "cell_type": "code",
   "execution_count": 47,
   "metadata": {},
   "outputs": [],
   "source": [
    "def plot_hist_policy(data):\n",
    "    \n",
    "    v1 = data[:,147].sum(axis=0)\n",
    "    v2 = data[:,148].sum(axis=0)\n",
    "    v3 = data[:,149].sum(axis=0)\n",
    "    v0 = (data[:,[147,148,149]].sum(axis=1)==0).sum()\n",
    "    plt.bar([0,1,2,3], [v0,v1,v2,v3])\n",
    "    plt.xlabel('Vaccine')\n",
    "    plt.ylabel('Frequency')\n",
    "    plt.title('Vaccines after historical policy')\n",
    "    plt.savefig('figures/vaccices_historical_policy.png')\n",
    "    plt.show()"
   ]
  },
  {
   "cell_type": "code",
   "execution_count": 48,
   "metadata": {},
   "outputs": [
    {
     "data": {
      "image/png": "[encoded data removed]",
      "text/plain": [
       "<Figure size 432x288 with 1 Axes>"
      ]
     },
     "metadata": {
      "needs_background": "light"
     },
     "output_type": "display_data"
    }
   ],
   "source": [
    "plot_hist_policy(X)"
   ]
  },
  {
   "cell_type": "code",
   "execution_count": 49,
   "metadata": {},
   "outputs": [],
   "source": [
    "from covid.policy import RandomPolicy"
   ]
  },
  {
   "cell_type": "code",
   "execution_count": 50,
   "metadata": {},
   "outputs": [
    {
     "data": {
      "text/plain": [
       "'\\nvaccine_policy = RandomPolicy(n_vaccines, action_space) # make sure to add -1 for \\'no vaccine\\'\\n\\nY_rand_pol = np.zeros((n_population,n_symptoms))\\nA_rand_pol = np.zeros(n_population)\\n\\n\\nprint(\"With a for loop\")\\n# The simplest way to work is to go through every individual in the population\\nfor t in range(n_population):\\n    #a_t = vaccine_policy.get_action(X[t])\\n    a_t = vaccine_policy.get_action(X[t])\\n    print(a_t)\\n    # Then you can obtain results for everybody\\n    y_t = population.vaccinate([t], a_t)\\n    #y_t = population.vaccinate([t], a_t.reshape((1, 1)))\\n    \\n    # Feed the results back in your policy. This allows you to fit the\\n    # statistical model you have.\\n    #vaccine_policy.observe(X[t], a_t, y_t)\\n    vaccine_policy.observe(X[t], a_t, y_t)\\n    \\n    #print(a_t.shape)\\n    Y_rand_pol[t] = y_t\\n    #A_rand_pol[t] = a_t\\n'"
      ]
     },
     "execution_count": 50,
     "metadata": {},
     "output_type": "execute_result"
    }
   ],
   "source": [
    "\"\"\"\n",
    "vaccine_policy = RandomPolicy(n_vaccines, action_space) # make sure to add -1 for 'no vaccine'\n",
    "\n",
    "Y_rand_pol = np.zeros((n_population,n_symptoms))\n",
    "A_rand_pol = np.zeros(n_population)\n",
    "\n",
    "\n",
    "print(\"With a for loop\")\n",
    "# The simplest way to work is to go through every individual in the population\n",
    "for t in range(n_population):\n",
    "    #a_t = vaccine_policy.get_action(X[t])\n",
    "    a_t = vaccine_policy.get_action(X[t])\n",
    "    print(a_t)\n",
    "    # Then you can obtain results for everybody\n",
    "    y_t = population.vaccinate([t], a_t)\n",
    "    #y_t = population.vaccinate([t], a_t.reshape((1, 1)))\n",
    "    \n",
    "    # Feed the results back in your policy. This allows you to fit the\n",
    "    # statistical model you have.\n",
    "    #vaccine_policy.observe(X[t], a_t, y_t)\n",
    "    vaccine_policy.observe(X[t], a_t, y_t)\n",
    "    \n",
    "    #print(a_t.shape)\n",
    "    Y_rand_pol[t] = y_t\n",
    "    #A_rand_pol[t] = a_t\n",
    "\"\"\""
   ]
  },
  {
   "cell_type": "markdown",
   "metadata": {},
   "source": [
    "## random"
   ]
  },
  {
   "cell_type": "code",
   "execution_count": 51,
   "metadata": {},
   "outputs": [
    {
     "name": "stdout",
     "output_type": "stream",
     "text": [
      "Initialising policy with  3 actions\n",
      "A = { [-1  0  1  2] }\n",
      "Vaccinate'em all\n",
      "[[0]\n",
      " [2]\n",
      " [1]\n",
      " ...\n",
      " [1]\n",
      " [2]\n",
      " [3]]\n"
     ]
    }
   ],
   "source": [
    "vaccine_policy = RandomPolicy(n_vaccines, action_space)\n",
    "\n",
    "\n",
    "\n",
    "print(\"Vaccinate'em all\")\n",
    "# Here you can get an action for everybody in the population\n",
    "A = vaccine_policy.get_action(X)\n",
    "A = np.array([int(i) for i in A])\n",
    "A = A.astype(int)\n",
    "A = A.reshape((n_population, 1))+1\n",
    "print(A)\n",
    "# Then you can obtain results for everybody\n",
    "Y = population.vaccinate(list(range(n_population)), A)\n",
    "# Feed the results back in your policy. \n",
    "vaccine_policy.observe(X, A, Y)"
   ]
  },
  {
   "cell_type": "code",
   "execution_count": 52,
   "metadata": {},
   "outputs": [
    {
     "name": "stdout",
     "output_type": "stream",
     "text": [
      "[[0]\n",
      " [2]\n",
      " [1]\n",
      " ...\n",
      " [1]\n",
      " [2]\n",
      " [3]]\n"
     ]
    }
   ],
   "source": [
    "print(A)"
   ]
  },
  {
   "cell_type": "code",
   "execution_count": 53,
   "metadata": {},
   "outputs": [],
   "source": [
    "def plot_random_pol(actions):\n",
    "    \n",
    "    plt.hist(actions)# label=['0','1','2','3'])\n",
    "    plt.xlabel('Vaccine')\n",
    "    plt.ylabel('Frequency')\n",
    "    plt.title('Vaccines after random policy')\n",
    "    #plt.legend(loc='upper right')\n",
    "    plt.savefig('figures/vaccines_random_policy.png')\n",
    "    plt.show()"
   ]
  },
  {
   "cell_type": "code",
   "execution_count": 54,
   "metadata": {},
   "outputs": [
    {
     "data": {
      "image/png": "[encoded data removed]",
      "text/plain": [
       "<Figure size 432x288 with 1 Axes>"
      ]
     },
     "metadata": {
      "needs_background": "light"
     },
     "output_type": "display_data"
    }
   ],
   "source": [
    "plot_random_pol(A)"
   ]
  },
  {
   "cell_type": "code",
   "execution_count": 55,
   "metadata": {},
   "outputs": [
    {
     "name": "stdout",
     "output_type": "stream",
     "text": [
      "[[0. 0. 0. ... 0. 0. 0.]\n",
      " [0. 0. 0. ... 0. 0. 0.]\n",
      " [0. 0. 0. ... 0. 0. 0.]\n",
      " ...\n",
      " [0. 0. 0. ... 0. 0. 0.]\n",
      " [1. 0. 0. ... 0. 0. 0.]\n",
      " [0. 0. 0. ... 0. 0. 0.]]\n"
     ]
    }
   ],
   "source": [
    "print(Y)"
   ]
  },
  {
   "cell_type": "code",
   "execution_count": 56,
   "metadata": {},
   "outputs": [],
   "source": [
    "new_col = Y[:,[5,7,8]].sum(axis=1)\n",
    "new_col0 = new_col > 0\n",
    "new_col01 = new_col0.astype(int)\n",
    "new_col01 = np.reshape(new_col01,(n_population,-1))\n",
    "Y_new = np.hstack((Y,new_col01))\n",
    "rand_pol_utility = -Y_new[:,10].sum(axis=0)"
   ]
  },
  {
   "cell_type": "code",
   "execution_count": 57,
   "metadata": {},
   "outputs": [
    {
     "data": {
      "text/plain": [
       "-344.0"
      ]
     },
     "execution_count": 57,
     "metadata": {},
     "output_type": "execute_result"
    }
   ],
   "source": [
    "rand_pol_utility"
   ]
  },
  {
   "cell_type": "markdown",
   "metadata": {},
   "source": [
    "# Bootstrap historical and simulated"
   ]
  },
  {
   "cell_type": "markdown",
   "metadata": {},
   "source": [
    "## "
   ]
  },
  {
   "cell_type": "code",
   "execution_count": 58,
   "metadata": {},
   "outputs": [],
   "source": [
    "utility_simalated = np.zeros(100)\n",
    "\n",
    "for i in range(100):\n",
    "    n_genes = 128\n",
    "    n_vaccines = 3 # DO NOT CHANGE, breaks the simulator.\n",
    "    n_treatments = 4\n",
    "    n_population = 10_000\n",
    "    n_symptoms = 10\n",
    "\n",
    "    # symptom names for easy reference\n",
    "    from covid.auxilliary import symptom_names\n",
    "\n",
    "    np.random.seed(i)\n",
    "\n",
    "    population = Population(n_genes, n_vaccines, n_treatments)\n",
    "    X = population.generate(n_population)\n",
    "    n_features = X.shape[1]\n",
    "    \n",
    "    new_col = X[:,[5,7,8]].sum(axis=1)\n",
    "    new_col0 = new_col > 0\n",
    "    new_col01 = new_col0.astype(int)\n",
    "    new_col01 = np.reshape(new_col01,(n_population,-1))\n",
    "    X_new = np.hstack((X,new_col01))\n",
    "\n",
    "    hist_pol_utility = -X_new[:,150].sum(axis=0)\n",
    "    \n",
    "    utility_simalated[i] = hist_pol_utility\n",
    "    "
   ]
  },
  {
   "cell_type": "code",
   "execution_count": 71,
   "metadata": {},
   "outputs": [
    {
     "data": {
      "image/png": "[encoded data removed]",
      "text/plain": [
       "<Figure size 432x288 with 1 Axes>"
      ]
     },
     "metadata": {
      "needs_background": "light"
     },
     "output_type": "display_data"
    }
   ],
   "source": [
    "plt.hist(utility_simalated, bins=30)\n",
    "mean = np.mean(utility_simalated)\n",
    "std = np.std(utility_simalated)\n",
    "plt.ylabel('Frequency')\n",
    "xlabel_str = f\"Utility: Mean {mean:.4f}, Std {std:.4f}\"\n",
    "plt.xlabel(xlabel_str)\n",
    "plt.title('Histogram utility historical policy')\n",
    "plt.savefig('figures/histogram_utility_historical_policy.png')\n",
    "\n"
   ]
  },
  {
   "cell_type": "code",
   "execution_count": null,
   "metadata": {},
   "outputs": [],
   "source": []
  },
  {
   "cell_type": "code",
   "execution_count": 63,
   "metadata": {},
   "outputs": [
    {
     "name": "stdout",
     "output_type": "stream",
     "text": [
      "Initialising policy with  3 actions\n",
      "A = { [-1  0  1  2] }\n",
      "Vaccinate'em all\n",
      "Initialising policy with  3 actions\n",
      "A = { [-1  0  1  2] }\n",
      "Vaccinate'em all\n",
      "Initialising policy with  3 actions\n",
      "A = { [-1  0  1  2] }\n",
      "Vaccinate'em all\n",
      "Initialising policy with  3 actions\n",
      "A = { [-1  0  1  2] }\n",
      "Vaccinate'em all\n",
      "Initialising policy with  3 actions\n",
      "A = { [-1  0  1  2] }\n",
      "Vaccinate'em all\n",
      "Initialising policy with  3 actions\n",
      "A = { [-1  0  1  2] }\n",
      "Vaccinate'em all\n",
      "Initialising policy with  3 actions\n",
      "A = { [-1  0  1  2] }\n",
      "Vaccinate'em all\n",
      "Initialising policy with  3 actions\n",
      "A = { [-1  0  1  2] }\n",
      "Vaccinate'em all\n",
      "Initialising policy with  3 actions\n",
      "A = { [-1  0  1  2] }\n",
      "Vaccinate'em all\n",
      "Initialising policy with  3 actions\n",
      "A = { [-1  0  1  2] }\n",
      "Vaccinate'em all\n",
      "Initialising policy with  3 actions\n",
      "A = { [-1  0  1  2] }\n",
      "Vaccinate'em all\n",
      "Initialising policy with  3 actions\n",
      "A = { [-1  0  1  2] }\n",
      "Vaccinate'em all\n",
      "Initialising policy with  3 actions\n",
      "A = { [-1  0  1  2] }\n",
      "Vaccinate'em all\n",
      "Initialising policy with  3 actions\n",
      "A = { [-1  0  1  2] }\n",
      "Vaccinate'em all\n",
      "Initialising policy with  3 actions\n",
      "A = { [-1  0  1  2] }\n",
      "Vaccinate'em all\n",
      "Initialising policy with  3 actions\n",
      "A = { [-1  0  1  2] }\n",
      "Vaccinate'em all\n",
      "Initialising policy with  3 actions\n",
      "A = { [-1  0  1  2] }\n",
      "Vaccinate'em all\n",
      "Initialising policy with  3 actions\n",
      "A = { [-1  0  1  2] }\n",
      "Vaccinate'em all\n",
      "Initialising policy with  3 actions\n",
      "A = { [-1  0  1  2] }\n",
      "Vaccinate'em all\n",
      "Initialising policy with  3 actions\n",
      "A = { [-1  0  1  2] }\n",
      "Vaccinate'em all\n",
      "Initialising policy with  3 actions\n",
      "A = { [-1  0  1  2] }\n",
      "Vaccinate'em all\n",
      "Initialising policy with  3 actions\n",
      "A = { [-1  0  1  2] }\n",
      "Vaccinate'em all\n",
      "Initialising policy with  3 actions\n",
      "A = { [-1  0  1  2] }\n",
      "Vaccinate'em all\n",
      "Initialising policy with  3 actions\n",
      "A = { [-1  0  1  2] }\n",
      "Vaccinate'em all\n",
      "Initialising policy with  3 actions\n",
      "A = { [-1  0  1  2] }\n",
      "Vaccinate'em all\n",
      "Initialising policy with  3 actions\n",
      "A = { [-1  0  1  2] }\n",
      "Vaccinate'em all\n",
      "Initialising policy with  3 actions\n",
      "A = { [-1  0  1  2] }\n",
      "Vaccinate'em all\n",
      "Initialising policy with  3 actions\n",
      "A = { [-1  0  1  2] }\n",
      "Vaccinate'em all\n",
      "Initialising policy with  3 actions\n",
      "A = { [-1  0  1  2] }\n",
      "Vaccinate'em all\n",
      "Initialising policy with  3 actions\n",
      "A = { [-1  0  1  2] }\n",
      "Vaccinate'em all\n",
      "Initialising policy with  3 actions\n",
      "A = { [-1  0  1  2] }\n",
      "Vaccinate'em all\n",
      "Initialising policy with  3 actions\n",
      "A = { [-1  0  1  2] }\n",
      "Vaccinate'em all\n",
      "Initialising policy with  3 actions\n",
      "A = { [-1  0  1  2] }\n",
      "Vaccinate'em all\n",
      "Initialising policy with  3 actions\n",
      "A = { [-1  0  1  2] }\n",
      "Vaccinate'em all\n",
      "Initialising policy with  3 actions\n",
      "A = { [-1  0  1  2] }\n",
      "Vaccinate'em all\n",
      "Initialising policy with  3 actions\n",
      "A = { [-1  0  1  2] }\n",
      "Vaccinate'em all\n",
      "Initialising policy with  3 actions\n",
      "A = { [-1  0  1  2] }\n",
      "Vaccinate'em all\n",
      "Initialising policy with  3 actions\n",
      "A = { [-1  0  1  2] }\n",
      "Vaccinate'em all\n",
      "Initialising policy with  3 actions\n",
      "A = { [-1  0  1  2] }\n",
      "Vaccinate'em all\n",
      "Initialising policy with  3 actions\n",
      "A = { [-1  0  1  2] }\n",
      "Vaccinate'em all\n",
      "Initialising policy with  3 actions\n",
      "A = { [-1  0  1  2] }\n",
      "Vaccinate'em all\n",
      "Initialising policy with  3 actions\n",
      "A = { [-1  0  1  2] }\n",
      "Vaccinate'em all\n",
      "Initialising policy with  3 actions\n",
      "A = { [-1  0  1  2] }\n",
      "Vaccinate'em all\n",
      "Initialising policy with  3 actions\n",
      "A = { [-1  0  1  2] }\n",
      "Vaccinate'em all\n",
      "Initialising policy with  3 actions\n",
      "A = { [-1  0  1  2] }\n",
      "Vaccinate'em all\n",
      "Initialising policy with  3 actions\n",
      "A = { [-1  0  1  2] }\n",
      "Vaccinate'em all\n",
      "Initialising policy with  3 actions\n",
      "A = { [-1  0  1  2] }\n",
      "Vaccinate'em all\n",
      "Initialising policy with  3 actions\n",
      "A = { [-1  0  1  2] }\n",
      "Vaccinate'em all\n",
      "Initialising policy with  3 actions\n",
      "A = { [-1  0  1  2] }\n",
      "Vaccinate'em all\n",
      "Initialising policy with  3 actions\n",
      "A = { [-1  0  1  2] }\n",
      "Vaccinate'em all\n",
      "Initialising policy with  3 actions\n",
      "A = { [-1  0  1  2] }\n",
      "Vaccinate'em all\n",
      "Initialising policy with  3 actions\n",
      "A = { [-1  0  1  2] }\n",
      "Vaccinate'em all\n",
      "Initialising policy with  3 actions\n",
      "A = { [-1  0  1  2] }\n",
      "Vaccinate'em all\n",
      "Initialising policy with  3 actions\n",
      "A = { [-1  0  1  2] }\n",
      "Vaccinate'em all\n",
      "Initialising policy with  3 actions\n",
      "A = { [-1  0  1  2] }\n",
      "Vaccinate'em all\n",
      "Initialising policy with  3 actions\n",
      "A = { [-1  0  1  2] }\n",
      "Vaccinate'em all\n",
      "Initialising policy with  3 actions\n",
      "A = { [-1  0  1  2] }\n",
      "Vaccinate'em all\n",
      "Initialising policy with  3 actions\n",
      "A = { [-1  0  1  2] }\n",
      "Vaccinate'em all\n",
      "Initialising policy with  3 actions\n",
      "A = { [-1  0  1  2] }\n",
      "Vaccinate'em all\n",
      "Initialising policy with  3 actions\n",
      "A = { [-1  0  1  2] }\n",
      "Vaccinate'em all\n",
      "Initialising policy with  3 actions\n",
      "A = { [-1  0  1  2] }\n",
      "Vaccinate'em all\n",
      "Initialising policy with  3 actions\n",
      "A = { [-1  0  1  2] }\n",
      "Vaccinate'em all\n",
      "Initialising policy with  3 actions\n",
      "A = { [-1  0  1  2] }\n",
      "Vaccinate'em all\n",
      "Initialising policy with  3 actions\n",
      "A = { [-1  0  1  2] }\n",
      "Vaccinate'em all\n",
      "Initialising policy with  3 actions\n",
      "A = { [-1  0  1  2] }\n",
      "Vaccinate'em all\n",
      "Initialising policy with  3 actions\n",
      "A = { [-1  0  1  2] }\n",
      "Vaccinate'em all\n",
      "Initialising policy with  3 actions\n",
      "A = { [-1  0  1  2] }\n",
      "Vaccinate'em all\n",
      "Initialising policy with  3 actions\n",
      "A = { [-1  0  1  2] }\n",
      "Vaccinate'em all\n",
      "Initialising policy with  3 actions\n",
      "A = { [-1  0  1  2] }\n",
      "Vaccinate'em all\n",
      "Initialising policy with  3 actions\n",
      "A = { [-1  0  1  2] }\n",
      "Vaccinate'em all\n",
      "Initialising policy with  3 actions\n",
      "A = { [-1  0  1  2] }\n",
      "Vaccinate'em all\n",
      "Initialising policy with  3 actions\n",
      "A = { [-1  0  1  2] }\n",
      "Vaccinate'em all\n",
      "Initialising policy with  3 actions\n",
      "A = { [-1  0  1  2] }\n",
      "Vaccinate'em all\n",
      "Initialising policy with  3 actions\n",
      "A = { [-1  0  1  2] }\n",
      "Vaccinate'em all\n",
      "Initialising policy with  3 actions\n",
      "A = { [-1  0  1  2] }\n",
      "Vaccinate'em all\n",
      "Initialising policy with  3 actions\n",
      "A = { [-1  0  1  2] }\n",
      "Vaccinate'em all\n",
      "Initialising policy with  3 actions\n",
      "A = { [-1  0  1  2] }\n",
      "Vaccinate'em all\n",
      "Initialising policy with  3 actions\n",
      "A = { [-1  0  1  2] }\n",
      "Vaccinate'em all\n",
      "Initialising policy with  3 actions\n",
      "A = { [-1  0  1  2] }\n",
      "Vaccinate'em all\n",
      "Initialising policy with  3 actions\n",
      "A = { [-1  0  1  2] }\n",
      "Vaccinate'em all\n",
      "Initialising policy with  3 actions\n",
      "A = { [-1  0  1  2] }\n",
      "Vaccinate'em all\n",
      "Initialising policy with  3 actions\n",
      "A = { [-1  0  1  2] }\n",
      "Vaccinate'em all\n",
      "Initialising policy with  3 actions\n",
      "A = { [-1  0  1  2] }\n",
      "Vaccinate'em all\n",
      "Initialising policy with  3 actions\n",
      "A = { [-1  0  1  2] }\n",
      "Vaccinate'em all\n",
      "Initialising policy with  3 actions\n",
      "A = { [-1  0  1  2] }\n",
      "Vaccinate'em all\n",
      "Initialising policy with  3 actions\n",
      "A = { [-1  0  1  2] }\n",
      "Vaccinate'em all\n",
      "Initialising policy with  3 actions\n",
      "A = { [-1  0  1  2] }\n",
      "Vaccinate'em all\n",
      "Initialising policy with  3 actions\n",
      "A = { [-1  0  1  2] }\n",
      "Vaccinate'em all\n",
      "Initialising policy with  3 actions\n",
      "A = { [-1  0  1  2] }\n",
      "Vaccinate'em all\n",
      "Initialising policy with  3 actions\n",
      "A = { [-1  0  1  2] }\n",
      "Vaccinate'em all\n",
      "Initialising policy with  3 actions\n",
      "A = { [-1  0  1  2] }\n",
      "Vaccinate'em all\n",
      "Initialising policy with  3 actions\n",
      "A = { [-1  0  1  2] }\n",
      "Vaccinate'em all\n",
      "Initialising policy with  3 actions\n",
      "A = { [-1  0  1  2] }\n",
      "Vaccinate'em all\n",
      "Initialising policy with  3 actions\n",
      "A = { [-1  0  1  2] }\n",
      "Vaccinate'em all\n",
      "Initialising policy with  3 actions\n",
      "A = { [-1  0  1  2] }\n",
      "Vaccinate'em all\n",
      "Initialising policy with  3 actions\n",
      "A = { [-1  0  1  2] }\n",
      "Vaccinate'em all\n",
      "Initialising policy with  3 actions\n",
      "A = { [-1  0  1  2] }\n",
      "Vaccinate'em all\n",
      "Initialising policy with  3 actions\n",
      "A = { [-1  0  1  2] }\n",
      "Vaccinate'em all\n",
      "Initialising policy with  3 actions\n",
      "A = { [-1  0  1  2] }\n",
      "Vaccinate'em all\n",
      "Initialising policy with  3 actions\n",
      "A = { [-1  0  1  2] }\n",
      "Vaccinate'em all\n"
     ]
    }
   ],
   "source": [
    "utility_random = np.zeros(100)\n",
    "\n",
    "for i in range(100):\n",
    "    #n_genes = 128\n",
    "    #n_vaccines = 3 # DO NOT CHANGE, breaks the simulator.\n",
    "    #n_treatments = 4\n",
    "    #n_population = 10_000\n",
    "    #n_symptoms = 10\n",
    "\n",
    "    # symptom names for easy reference\n",
    "    #from covid.auxilliary import symptom_names\n",
    "\n",
    "    np.random.seed(i)\n",
    "\n",
    "    population = Population(n_genes, n_vaccines, n_treatments)\n",
    "    X = population.generate(n_population)\n",
    "    n_features = X.shape[1]\n",
    "    \n",
    "    vaccine_policy = RandomPolicy(n_vaccines, action_space)\n",
    "\n",
    "\n",
    "\n",
    "    print(\"Vaccinate'em all\")\n",
    "    # Here you can get an action for everybody in the population\n",
    "    A = vaccine_policy.get_action(X)\n",
    "    A = np.array([int(i) for i in A])\n",
    "    A = A.astype(int)\n",
    "    A = A.reshape((n_population, 1))+1\n",
    "    #print(A)\n",
    "    # Then you can obtain results for everybody\n",
    "    Y = population.vaccinate(list(range(n_population)), A)\n",
    "    # Feed the results back in your policy. \n",
    "    vaccine_policy.observe(X, A, Y)\n",
    "\n",
    "    new_col = Y[:,[5,7,8]].sum(axis=1)\n",
    "    new_col0 = new_col > 0\n",
    "    new_col01 = new_col0.astype(int)\n",
    "    new_col01 = np.reshape(new_col01,(n_population,-1))\n",
    "    Y_new = np.hstack((Y,new_col01))\n",
    "    rand_pol_utility = -Y_new[:,10].sum(axis=0)\n",
    "    \n",
    "    utility_random[i] = rand_pol_utility\n",
    "\n"
   ]
  },
  {
   "cell_type": "code",
   "execution_count": 64,
   "metadata": {},
   "outputs": [
    {
     "name": "stdout",
     "output_type": "stream",
     "text": [
      "======================================\n",
      "======================================\n",
      "======================================\n"
     ]
    }
   ],
   "source": [
    "print(\"======================================\")\n",
    "print(\"======================================\")\n",
    "print(\"======================================\")"
   ]
  },
  {
   "cell_type": "code",
   "execution_count": 70,
   "metadata": {},
   "outputs": [
    {
     "data": {
      "image/png": "[encoded data removed]",
      "text/plain": [
       "<Figure size 432x288 with 1 Axes>"
      ]
     },
     "metadata": {
      "needs_background": "light"
     },
     "output_type": "display_data"
    }
   ],
   "source": [
    "plt.hist(utility_random,bins=30)\n",
    "mean = np.mean(utility_random)\n",
    "std = np.std(utility_random)\n",
    "plt.ylabel('Frequency')\n",
    "xlabel_str = f\"Utility: Mean {mean:.4f}, Std {std:.4f}\"\n",
    "plt.xlabel(xlabel_str)\n",
    "plt.title('Histogram utility random policy')\n",
    "plt.savefig('figures/histogram_utility_random_policy.png')\n"
   ]
  },
  {
   "cell_type": "code",
   "execution_count": null,
   "metadata": {},
   "outputs": [],
   "source": []
  },
  {
   "cell_type": "code",
   "execution_count": null,
   "metadata": {},
   "outputs": [],
   "source": []
  },
  {
   "cell_type": "code",
   "execution_count": null,
   "metadata": {},
   "outputs": [],
   "source": []
  },
  {
   "cell_type": "code",
   "execution_count": null,
   "metadata": {},
   "outputs": [],
   "source": []
  },
  {
   "cell_type": "code",
   "execution_count": null,
   "metadata": {},
   "outputs": [],
   "source": []
  },
  {
   "cell_type": "code",
   "execution_count": null,
   "metadata": {},
   "outputs": [],
   "source": []
  },
  {
   "cell_type": "code",
   "execution_count": null,
   "metadata": {},
   "outputs": [],
   "source": []
  },
  {
   "cell_type": "code",
   "execution_count": null,
   "metadata": {},
   "outputs": [],
   "source": []
  },
  {
   "cell_type": "code",
   "execution_count": null,
   "metadata": {},
   "outputs": [],
   "source": []
  },
  {
   "cell_type": "code",
   "execution_count": null,
   "metadata": {},
   "outputs": [],
   "source": []
  },
  {
   "cell_type": "code",
   "execution_count": null,
   "metadata": {},
   "outputs": [],
   "source": []
  }
 ],
 "metadata": {
  "interpreter": {
   "hash": "51600fd56a40f342b1560ff0a624a3ca9526e59d8d11c813ce0c927098550455"
  },
  "kernelspec": {
   "display_name": "Python 3",
   "language": "python",
   "name": "python3"
  },
  "language_info": {
   "codemirror_mode": {
    "name": "ipython",
    "version": 3
   },
   "file_extension": ".py",
   "mimetype": "text/x-python",
   "name": "python",
   "nbconvert_exporter": "python",
   "pygments_lexer": "ipython3",
   "version": "3.8.8"
  }
 },
 "nbformat": 4,
 "nbformat_minor": 2
}
