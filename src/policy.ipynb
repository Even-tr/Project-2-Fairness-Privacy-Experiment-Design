{
 "cells": [
  {
   "cell_type": "code",
   "execution_count": 61,
   "source": [
    "from covid.simulator import Population\n",
    "from covid.auxilliary import symptom_names\n",
    "import numpy as np\n",
    "import pandas as pd\n",
    "\n",
    "from covid.policy import Policy"
   ],
   "outputs": [],
   "metadata": {}
  },
  {
   "cell_type": "code",
   "execution_count": 2,
   "source": [
    "w = np.array([0.2, 0.1, 0.1, 0.1, 0.5, 0.2, 0.5, 1.0, 100])\n",
    "assert w.shape[0] == 9, 'Shape of weights does not fit number of symptoms'"
   ],
   "outputs": [],
   "metadata": {}
  },
  {
   "cell_type": "code",
   "execution_count": 36,
   "source": [
    "class Model:\n",
    "    def __init__(self, nsymptom, nvacc):\n",
    "        # Priors for the beta-bernoulli model\n",
    "        self.a = np.ones(shape=[nvacc, nsymptom])/2 # using jeffreys prior\n",
    "        self.b = np.ones(shape=[nvacc, nsymptom])/2 # using jeffreys prior\n",
    "        self.nvacc = nvacc\n",
    "        self.nsymptom = nsymptom\n",
    "\n",
    "    def update(self, features, actions, outcomes):\n",
    "        \"\"\"\n",
    "        for index in range(self.nvacc):\n",
    "            print(outcomes[np.where(actions == (index-1))]) \n",
    "            print(actions)\n",
    "            print(outcomes)\n",
    "            if (np.sum(outcomes[np.where(actions == index - 1)], axis=1).size != 0):\n",
    "                self.a[index] += np.sum(outcomes[np.where(actions == index - 1)], axis=1)\n",
    "                self.b[index] += np.sum(outcomes[np.where(actions == index - 1)]==0, axis=1)\\\n",
    "                    - np.sum(outcomes[np.where(actions == index - 1)], axis=1)\n",
    "            else: \n",
    "                self.b[index] += np.sum((outcomes==0)[np.where(actions == index - 1)], axis=1)\n",
    "        \"\"\"\n",
    "        for index, outcome in enumerate(outcomes):\n",
    "            self.a[int(actions[index])] += outcome[1:]\n",
    "            self.b[int(actions[index])] += 1 - outcome[1:]\n",
    "\n",
    "    def get_params(self):\n",
    "        return self.a, self.b\n",
    "\n",
    "\n",
    "    def get_prob(self, features, action):\n",
    "        return self.a[action] / (self.a[action] + self.b[action])\n",
    "\n",
    "    \n",
    "    def retrain(self, features, actions, outcomes):\n",
    "        # Use aggregated database of outcomes etc...\n",
    "\n",
    "        self.a = np.ones(shape=[self.nvacc, self.nsymptom])/2 # using jeffreys prior\n",
    "        self.b = np.ones(shape=[self.nvacc, self.nsymptom])/2 # using jeffreys prior\n",
    "\n",
    "        self.update(features, actions, outcomes)"
   ],
   "outputs": [],
   "metadata": {}
  },
  {
   "cell_type": "code",
   "execution_count": 48,
   "source": [
    "class Naive(Policy):\n",
    "    def get_utility(self, features, action, outcome):\n",
    "        \"\"\"Here the utiliy is defined in terms of the outcomes obtained only, ignoring both the treatment and the previous condition.\n",
    "        \"\"\"\n",
    "        actions = self.get_action(features)\n",
    "        utility = 0\n",
    "        utility -= 0.2 * sum(outcome[:,symptom_names['Covid-Positive']]) \n",
    "        utility -= 0.1 * sum(outcome[:,symptom_names['Taste']])\n",
    "        utility -= 0.1 * sum(outcome[:,symptom_names['Fever']])\n",
    "        utility -= 0.1 * sum(outcome[:,symptom_names['Headache']])\n",
    "        utility -= 0.5 * sum(outcome[:,symptom_names['Pneumonia']])\n",
    "        utility -= 0.2 * sum(outcome[:,symptom_names['Stomach']])\n",
    "        utility -= 0.5 * sum(outcome[:,symptom_names['Myocarditis']])\n",
    "        utility -= 1.0 * sum(outcome[:,symptom_names['Blood-Clots']])\n",
    "        utility -= 100.0 * sum(outcome[:,symptom_names['Death']])\n",
    "        return utility\n",
    "\n",
    "    def set_model(self, model):\n",
    "        self.model = model\n",
    "    \n",
    "    def get_action(self, features):\n",
    "        \"\"\"Get a completely random set of actions, but only one for each individual.\n",
    "\n",
    "        If there is more than one individual, feature has dimensions t*x matrix, otherwise it is an x-size array.\n",
    "        \n",
    "        It assumes a finite set of actions.\n",
    "\n",
    "        Returns:\n",
    "        A t*|A| array of actions\n",
    "        \"\"\"\n",
    "        n_obs = features.shape[0]\n",
    "        actions = np.zeros(n_obs)\n",
    "        #u_list = np.zeros((n_obs, self.n_actions))\n",
    "        for index, t in enumerate(features):\n",
    "            u_list = []\n",
    "            for a in self.action_set:\n",
    "                u_list.append(self.get_expected_utility(a, t))\n",
    "            actions[index] = np.argmax(np.array(u_list))\n",
    "        return actions\n",
    "\n",
    "    def get_expected_utility(self, action, features):\n",
    "        p = self.model.get_prob(features, action)\n",
    "        return -np.dot(p, w)*(1+int(action != -1))\n",
    "\n",
    "    def observe(self, features, action, outcomes):\n",
    "        self.model.update(features, action, outcomes)\n",
    "        "
   ],
   "outputs": [],
   "metadata": {}
  },
  {
   "cell_type": "code",
   "execution_count": 55,
   "source": [
    "## Baseline simulator parameters\n",
    "n_genes = 128\n",
    "n_vaccines = 3\n",
    "n_treatments = 4\n",
    "n_population = 10000\n",
    "n_symptoms = 9\n",
    "\n",
    "# symptom names for easy reference\n",
    "from covid.auxilliary import symptom_names"
   ],
   "outputs": [],
   "metadata": {}
  },
  {
   "cell_type": "code",
   "execution_count": 63,
   "source": [
    "population = Population(n_genes, n_vaccines, n_treatments)\n",
    "X = population.generate(n_population)\n",
    "n_features = X.shape[1]"
   ],
   "outputs": [
    {
     "output_type": "stream",
     "name": "stderr",
     "text": [
      "<string>:6: VisibleDeprecationWarning: Creating an ndarray from ragged nested sequences (which is a list-or-tuple of lists-or-tuples-or ndarrays with different lengths or shapes) is deprecated. If you meant to do this, you must specify 'dtype=object' when creating the ndarray\n"
     ]
    }
   ],
   "metadata": {}
  },
  {
   "cell_type": "code",
   "execution_count": 64,
   "source": [
    "print(\"With a for loop\")\n",
    "vaccine_policy = Naive(2, np.array([-1, 0]))\n",
    "vaccine_policy.set_model(Model(n_symptoms, 2))\n",
    "# The simplest way to work is to go through every individual in the population\n",
    "Y = np.zeros((n_population, n_symptoms+1))\n",
    "A = np.zeros(n_population)\n",
    "for t in range(n_population):\n",
    "    #print(\"Person nr: \", t)\n",
    "    a_t = vaccine_policy.get_action(X[t].reshape((1, n_features)))\n",
    "    A[t] = a_t\n",
    "    # Then you can obtain results for everybody\n",
    "    y_t = population.vaccinate([t], a_t.reshape((1, 1)))\n",
    "    Y[t] = y_t\n",
    "    # Feed the results back in your policy. This allows you to fit the\n",
    "    # statistical model you have.\n",
    "    vaccine_policy.observe(X[t], a_t, y_t)"
   ],
   "outputs": [
    {
     "output_type": "stream",
     "name": "stdout",
     "text": [
      "With a for loop\n",
      "Initialising policy with  2 actions\n",
      "A = { [-1  0] }\n"
     ]
    }
   ],
   "metadata": {}
  },
  {
   "cell_type": "code",
   "execution_count": 68,
   "source": [
    "vaccine_policy.get_utility(X, A-1, Y)"
   ],
   "outputs": [
    {
     "output_type": "execute_result",
     "data": {
      "text/plain": [
       "-2000.0"
      ]
     },
     "metadata": {},
     "execution_count": 68
    }
   ],
   "metadata": {}
  },
  {
   "cell_type": "code",
   "execution_count": 50,
   "source": [
    "a, b = vaccine_policy.model.get_params()\n",
    "print(a[0]/(a[0] + b[0]))\n",
    "print(a[1]/(a[1] + b[1]))"
   ],
   "outputs": [
    {
     "output_type": "stream",
     "name": "stdout",
     "text": [
      "[9.99994987e-01 5.01268209e-06 5.01268209e-06 5.01268209e-06\n",
      " 5.01268209e-06 5.01268209e-06 5.01268209e-06 5.01268209e-06\n",
      " 5.01268209e-06]\n",
      "[0.99803922 0.00196078 0.00196078 0.00196078 0.00196078 0.00196078\n",
      " 0.00196078 0.00196078 0.00196078]\n"
     ]
    }
   ],
   "metadata": {}
  }
 ],
 "metadata": {
  "interpreter": {
   "hash": "51600fd56a40f342b1560ff0a624a3ca9526e59d8d11c813ce0c927098550455"
  },
  "kernelspec": {
   "name": "python3",
   "display_name": "Python 3.7.0 64-bit ('base': conda)"
  },
  "language_info": {
   "codemirror_mode": {
    "name": "ipython",
    "version": 3
   },
   "file_extension": ".py",
   "mimetype": "text/x-python",
   "name": "python",
   "nbconvert_exporter": "python",
   "pygments_lexer": "ipython3",
   "version": "3.7.0"
  },
  "orig_nbformat": 4
 },
 "nbformat": 4,
 "nbformat_minor": 2
}