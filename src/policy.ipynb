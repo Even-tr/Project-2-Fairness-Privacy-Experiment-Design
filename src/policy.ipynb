{
 "cells": [
  {
   "cell_type": "code",
   "execution_count": 8,
   "metadata": {},
   "outputs": [],
   "source": [
    "from covid.simulator import Population\n",
    "from covid.auxilliary import symptom_names\n",
    "import numpy as np\n",
    "import pandas as pd\n",
    "\n",
    "from covid.policy import Policy"
   ]
  },
  {
   "cell_type": "code",
   "execution_count": 65,
   "metadata": {},
   "outputs": [],
   "source": [
    "symptom_names = ['covid_recovered','covid_positive', 'no_taste_smell',\n",
    "'fever','headache', 'pneumonia','stomach','myocarditis', 'blood_clots','death']\n"
   ]
  },
  {
   "cell_type": "code",
   "execution_count": 9,
   "metadata": {},
   "outputs": [],
   "source": [
    "w = np.array([0.2, 0.1, 0.1, 0.1, 0.5, 0.2, 0.5, 1.0, 100])\n",
    "assert w.shape[0] == 9, 'Shape of weights does not fit number of symptoms'"
   ]
  },
  {
   "cell_type": "code",
   "execution_count": 10,
   "metadata": {},
   "outputs": [],
   "source": [
    "class Model:\n",
    "    def __init__(self, nsymptom, nvacc):\n",
    "        # Priors for the beta-bernoulli model\n",
    "        self.a = np.ones(shape=[nvacc, nsymptom])/2 # using jeffreys prior\n",
    "        self.b = np.ones(shape=[nvacc, nsymptom])/2 # using jeffreys prior\n",
    "        self.nvacc = nvacc\n",
    "        self.nsymptom = nsymptom\n",
    "\n",
    "    def update(self, features, actions, outcomes):\n",
    "        \"\"\"\n",
    "        for index in range(self.nvacc):\n",
    "            print(outcomes[np.where(actions == (index-1))]) \n",
    "            print(actions)\n",
    "            print(outcomes)\n",
    "            if (np.sum(outcomes[np.where(actions == index - 1)], axis=1).size != 0):\n",
    "                self.a[index] += np.sum(outcomes[np.where(actions == index - 1)], axis=1)\n",
    "                self.b[index] += np.sum(outcomes[np.where(actions == index - 1)]==0, axis=1)\\\n",
    "                    - np.sum(outcomes[np.where(actions == index - 1)], axis=1)\n",
    "            else: \n",
    "                self.b[index] += np.sum((outcomes==0)[np.where(actions == index - 1)], axis=1)\n",
    "        \"\"\"\n",
    "        for index, outcome in enumerate(outcomes):\n",
    "            self.a[int(actions[index])] += outcome[1:]\n",
    "            self.b[int(actions[index])] += 1 - outcome[1:]\n",
    "\n",
    "    def get_params(self):\n",
    "        return self.a, self.b\n",
    "\n",
    "\n",
    "    def get_prob(self, features, action):\n",
    "        return self.a[action] / (self.a[action] + self.b[action])\n",
    "\n",
    "    \n",
    "    def retrain(self, features, actions, outcomes):\n",
    "        # Use aggregated database of outcomes etc...\n",
    "\n",
    "        self.a = np.ones(shape=[self.nvacc, self.nsymptom])/2 # using jeffreys prior\n",
    "        self.b = np.ones(shape=[self.nvacc, self.nsymptom])/2 # using jeffreys prior\n",
    "\n",
    "        self.update(features, actions, outcomes)"
   ]
  },
  {
   "cell_type": "code",
   "execution_count": 41,
   "metadata": {},
   "outputs": [],
   "source": [
    "class Naive(Policy):\n",
    "    def get_utility(self, features, action, outcome):\n",
    "        utility = 0\n",
    "        for t, o in enumerate(outcome):\n",
    "            utility -= np.dot(w, o[1:])*(1+int(action[t] != -1))\n",
    "       \n",
    "        return utility\n",
    "\n",
    "    def set_model(self, model):\n",
    "        self.model = model\n",
    "    \n",
    "    def get_action(self, features):\n",
    "        \"\"\"Get a completely random set of actions, but only one for each individual.\n",
    "\n",
    "        If there is more than one individual, feature has dimensions t*x matrix, otherwise it is an x-size array.\n",
    "        \n",
    "        It assumes a finite set of actions.\n",
    "\n",
    "        Returns:\n",
    "        A t*|A| array of actions\n",
    "        \"\"\"\n",
    "        n_obs = features.shape[0]\n",
    "        actions = np.zeros(n_obs)\n",
    "        #u_list = np.zeros((n_obs, self.n_actions))\n",
    "        for index, t in enumerate(features):\n",
    "            u_list = []\n",
    "            for a in self.action_set:\n",
    "                u_list.append(self.get_expected_utility(a, t))\n",
    "            actions[index] = np.argmax(np.array(u_list))\n",
    "        return actions\n",
    "\n",
    "    def get_expected_utility(self, action, features):\n",
    "        p = self.model.get_prob(features, action)\n",
    "        return -np.dot(p, w)*(1+int(action != -1))\n",
    "\n",
    "    def observe(self, features, action, outcomes):\n",
    "        self.model.update(features, action, outcomes)\n",
    "        "
   ]
  },
  {
   "cell_type": "code",
   "execution_count": 52,
   "metadata": {},
   "outputs": [],
   "source": [
    "## Baseline simulator parameters\n",
    "n_genes = 128\n",
    "n_vaccines = 3\n",
    "n_treatments = 4\n",
    "n_population = 100000\n",
    "n_symptoms = 9\n",
    "\n",
    "# symptom names for easy reference\n",
    "from covid.auxilliary import symptom_names"
   ]
  },
  {
   "cell_type": "code",
   "execution_count": 53,
   "metadata": {},
   "outputs": [
    {
     "name": "stderr",
     "output_type": "stream",
     "text": [
      "<__array_function__ internals>:5: VisibleDeprecationWarning: Creating an ndarray from ragged nested sequences (which is a list-or-tuple of lists-or-tuples-or ndarrays with different lengths or shapes) is deprecated. If you meant to do this, you must specify 'dtype=object' when creating the ndarray.\n"
     ]
    }
   ],
   "source": [
    "population = Population(n_genes, n_vaccines, n_treatments)\n",
    "X = population.generate(n_population)\n",
    "n_features = X.shape[1]"
   ]
  },
  {
   "cell_type": "code",
   "execution_count": 54,
   "metadata": {},
   "outputs": [
    {
     "name": "stdout",
     "output_type": "stream",
     "text": [
      "With a for loop\n",
      "Initialising policy with  2 actions\n",
      "A = { [-1  0] }\n"
     ]
    }
   ],
   "source": [
    "print(\"With a for loop\")\n",
    "vaccine_policy = Naive(2, np.array([-1, 0]))\n",
    "vaccine_policy.set_model(Model(n_symptoms, 2))\n",
    "# The simplest way to work is to go through every individual in the population\n",
    "Y = np.zeros((n_population, n_symptoms+1))\n",
    "A = np.zeros(n_population)\n",
    "for t in range(n_population):\n",
    "    #print(\"Person nr: \", t)\n",
    "    a_t = vaccine_policy.get_action(X[t].reshape((1, n_features)))\n",
    "    A[t] = a_t\n",
    "    # Then you can obtain results for everybody\n",
    "    y_t = population.vaccinate([t], a_t.reshape((1, 1)))\n",
    "    Y[t] = y_t\n",
    "    # Feed the results back in your policy. This allows you to fit the\n",
    "    # statistical model you have.\n",
    "    vaccine_policy.observe(X[t], a_t, y_t)"
   ]
  },
  {
   "cell_type": "code",
   "execution_count": 61,
   "metadata": {},
   "outputs": [
    {
     "name": "stdout",
     "output_type": "stream",
     "text": [
      "10\n"
     ]
    }
   ],
   "source": [
    "print(len(symptom_names))"
   ]
  },
  {
   "cell_type": "code",
   "execution_count": 68,
   "metadata": {},
   "outputs": [],
   "source": [
    "def print_pre_statistics(X):\n",
    "    print(f'Statistic (N={X.shape[0]})')\n",
    "    for i in range(len(symptom_names)-1):\n",
    "        print(f'{symptom_names[i].ljust(15)} {X[:, i].sum()}')\n"
   ]
  },
  {
   "cell_type": "code",
   "execution_count": 75,
   "metadata": {},
   "outputs": [
    {
     "name": "stdout",
     "output_type": "stream",
     "text": [
      "Statistic (N=100000)\n",
      "covid_recovered 0.0\n",
      "covid_positive  0.0\n",
      "no_taste_smell  0.0\n",
      "fever           100000.0\n",
      "headache        0.0\n",
      "pneumonia       0.0\n",
      "stomach         0.0\n",
      "myocarditis     0.0\n",
      "blood_clots     0.0\n",
      "[0. 0. 1. ... 0. 0. 0.]\n"
     ]
    }
   ],
   "source": [
    "print_pre_statistics(Y)\n",
    "print(A)"
   ]
  },
  {
   "cell_type": "code",
   "execution_count": 76,
   "metadata": {},
   "outputs": [
    {
     "name": "stdout",
     "output_type": "stream",
     "text": [
      "[5.02542867e-06 5.02542867e-06 9.99994975e-01 5.02542867e-06\n",
      " 5.02542867e-06 5.02542867e-06 5.02542867e-06 5.02542867e-06\n",
      " 5.02542867e-06]\n",
      "[9.84251969e-04 9.84251969e-04 9.99015748e-01 9.84251969e-04\n",
      " 9.84251969e-04 9.84251969e-04 9.84251969e-04 9.84251969e-04\n",
      " 9.84251969e-04]\n"
     ]
    }
   ],
   "source": [
    "a, b = vaccine_policy.model.get_params()\n",
    "print(a[0]/(a[0] + b[0]))\n",
    "print(a[1]/(a[1] + b[1]))"
   ]
  }
 ],
 "metadata": {
  "interpreter": {
   "hash": "51600fd56a40f342b1560ff0a624a3ca9526e59d8d11c813ce0c927098550455"
  },
  "kernelspec": {
   "display_name": "Python 3.7.0 64-bit ('base': conda)",
   "name": "python3"
  },
  "language_info": {
   "codemirror_mode": {
    "name": "ipython",
    "version": 3
   },
   "file_extension": ".py",
   "mimetype": "text/x-python",
   "name": "python",
   "nbconvert_exporter": "python",
   "pygments_lexer": "ipython3",
   "version": "3.7.0"
  },
  "orig_nbformat": 4
 },
 "nbformat": 4,
 "nbformat_minor": 2
}
