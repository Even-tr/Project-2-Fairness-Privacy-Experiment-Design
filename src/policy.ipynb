{
 "cells": [
  {
   "cell_type": "code",
   "execution_count": 1,
   "metadata": {},
   "outputs": [],
   "source": [
    "from covid.simulator import Population\n",
    "from covid.auxilliary import symptom_names\n",
    "import numpy as np\n",
    "import pandas as pd\n",
    "import matplotlib.pyplot as plt\n",
    "\n",
    "from covid.policy import Policy"
   ]
  },
  {
   "cell_type": "code",
   "execution_count": 2,
   "metadata": {},
   "outputs": [],
   "source": [
    "symptom_names = ['covid_recovered','covid_positive', 'no_taste_smell',\n",
    "'fever','headache', 'pneumonia','stomach','myocarditis', 'blood_clots','death']\n"
   ]
  },
  {
   "cell_type": "code",
   "execution_count": 3,
   "metadata": {},
   "outputs": [],
   "source": [
    "w = np.array([0.2, 0.1, 0.1, 0.1, 0.5, 0.2, 0.5, 1.0, 100])\n",
    "assert w.shape[0] == 9, 'Shape of weights does not fit number of symptoms'"
   ]
  },
  {
   "cell_type": "code",
   "execution_count": 4,
   "metadata": {},
   "outputs": [],
   "source": [
    "class BetaBernoulliModel:\n",
    "    def __init__(self, nsymptom, nvacc):\n",
    "        # Priors for the beta-bernoulli model\n",
    "        self.a = np.ones(shape=[nvacc, nsymptom])/2 # using jeffreys prior\n",
    "        self.b = np.ones(shape=[nvacc, nsymptom])/2 # using jeffreys prior\n",
    "        self.nvacc = nvacc\n",
    "        self.nsymptom = nsymptom\n",
    "\n",
    "    def update(self, features, actions, outcomes):\n",
    "        \"\"\"\n",
    "        for index in range(self.nvacc):\n",
    "            print(outcomes[np.where(actions == (index-1))]) \n",
    "            print(actions)\n",
    "            print(outcomes)\n",
    "            if (np.sum(outcomes[np.where(actions == index - 1)], axis=1).size != 0):\n",
    "                self.a[index] += np.sum(outcomes[np.where(actions == index - 1)], axis=1)\n",
    "                self.b[index] += np.sum(outcomes[np.where(actions == index - 1)]==0, axis=1)\\\n",
    "                    - np.sum(outcomes[np.where(actions == index - 1)], axis=1)\n",
    "            else: \n",
    "                self.b[index] += np.sum((outcomes==0)[np.where(actions == index - 1)], axis=1)\n",
    "        \"\"\"\n",
    "\n",
    "        # performing the update to the beta - Bernoulli model for each case\n",
    "        # in a loop. i.e. when |y| = 1\n",
    "        # TODO: vecotirze this / fix the code above\n",
    "        for index, outcome in enumerate(outcomes):\n",
    "            self.a[int(actions[index])] += outcome[1:]\n",
    "            self.b[int(actions[index])] += 1 - outcome[1:]\n",
    "\n",
    "    def get_params(self):\n",
    "        # Returns the parameters of all the beta distrobutions.\n",
    "        return self.a, self.b\n",
    "\n",
    "\n",
    "    def get_prob(self, features, action):\n",
    "        # Returns the maximum posterior estiamte / mean of the theta-distrobution\n",
    "        # which is a/(a+b) where a and b are the posterior parameters\n",
    "        return self.a[action] / (self.a[action] + self.b[action])\n",
    "\n",
    "    \n",
    "    def retrain(self, features, actions, outcomes):\n",
    "        # Retrains the model using jeffreys prior. The input should be the complete \n",
    "        # database of the trials etc. (This overwrites the old model)\n",
    "        # With no privacy guarantee, this is equivivalent to continously update the model\n",
    "        # However if we add laplace noise, then this would be a centralized method\n",
    "        # as opposed to the local method which 'update' employs\n",
    "\n",
    "        self.a = np.ones(shape=[self.nvacc, self.nsymptom])/2 # using jeffreys prior\n",
    "        self.b = np.ones(shape=[self.nvacc, self.nsymptom])/2 # using jeffreys prior\n",
    "\n",
    "        self.update(features, actions, outcomes)"
   ]
  },
  {
   "cell_type": "code",
   "execution_count": 5,
   "metadata": {},
   "outputs": [],
   "source": [
    "class Naive(Policy):\n",
    "    def get_utility(self, features, action, outcome):\n",
    "        utility = 0\n",
    "        for t, o in enumerate(outcome):\n",
    "            utility -= np.dot(w, o[1:])*(1+int(action[t] != -1))\n",
    "       \n",
    "        return utility\n",
    "\n",
    "    def set_model(self, model):\n",
    "        self.model = model\n",
    "    \n",
    "    def get_action(self, features):\n",
    "        \"\"\"Get a completely random set of actions, but only one for each individual.\n",
    "\n",
    "        If there is more than one individual, feature has dimensions t*x matrix, otherwise it is an x-size array.\n",
    "        \n",
    "        It assumes a finite set of actions.\n",
    "\n",
    "        Returns:\n",
    "        A t*|A| array of actions\n",
    "        \"\"\"\n",
    "        \n",
    "        n_obs = features.shape[0]\n",
    "        actions = np.zeros(n_obs)\n",
    "        \n",
    "        for index, t in enumerate(features):\n",
    "            u_list = []\n",
    "            for a in self.action_set:\n",
    "                u_list.append(self.get_expected_utility(a, t))\n",
    "            actions[index] = np.argmax(np.array(u_list))\n",
    "        return actions\n",
    "\n",
    "    def get_expected_utility(self, action, features):\n",
    "        p = self.model.get_prob(features, action)\n",
    "        return -np.dot(p, w)*(1+int(action != -1))\n",
    "\n",
    "    def observe(self, features, action, outcomes):\n",
    "        self.model.update(features, action, outcomes)\n",
    "        "
   ]
  },
  {
   "cell_type": "code",
   "execution_count": 6,
   "metadata": {},
   "outputs": [],
   "source": [
    "def privacy_tradeoff(epsilon, policy):\n",
    "    # Returns the loss in uility given a privacy guarantee of epsilon\n",
    "    # Either absolute or relative\n",
    "    pass"
   ]
  },
  {
   "cell_type": "code",
   "execution_count": 7,
   "metadata": {},
   "outputs": [],
   "source": [
    "## Baseline simulator parameters\n",
    "n_genes = 128\n",
    "n_vaccines = 3 # DO NOT CHANGE, breaks the simulator.\n",
    "n_treatments = 4\n",
    "n_population = 10_0000\n",
    "n_symptoms = 9\n",
    "\n",
    "# symptom names for easy reference\n",
    "from covid.auxilliary import symptom_names"
   ]
  },
  {
   "cell_type": "code",
   "execution_count": 24,
   "metadata": {},
   "outputs": [
    {
     "name": "stderr",
     "output_type": "stream",
     "text": [
      "<__array_function__ internals>:5: VisibleDeprecationWarning: Creating an ndarray from ragged nested sequences (which is a list-or-tuple of lists-or-tuples-or ndarrays with different lengths or shapes) is deprecated. If you meant to do this, you must specify 'dtype=object' when creating the ndarray.\n"
     ]
    }
   ],
   "source": [
    "# Setting the population generator\n",
    "population = Population(n_genes, n_vaccines, n_treatments)\n",
    "X = population.generate(n_population)\n",
    "n_features = X.shape[1]"
   ]
  },
  {
   "cell_type": "code",
   "execution_count": 23,
   "metadata": {},
   "outputs": [
    {
     "data": {
      "text/plain": [
       "Text(0.5, 0, 'feature number')"
      ]
     },
     "execution_count": 23,
     "metadata": {},
     "output_type": "execute_result"
    },
    {
     "data": {
      "image/png": "[encoded data removed]",
      "text/plain": [
       "<Figure size 432x288 with 1 Axes>"
      ]
     },
     "metadata": {
      "needs_background": "light"
     },
     "output_type": "display_data"
    }
   ],
   "source": [
    "# Plotting data for some intution\n",
    "plt.scatter(range(150),np.log(np.sum(X, axis=0)))\n",
    "plt.ylabel('log count')\n",
    "plt.xlabel('feature number')\n"
   ]
  },
  {
   "cell_type": "markdown",
   "metadata": {},
   "source": [
    "# Running our policy in a loop\n",
    "To test our policy, we can loop over every individual in the population 'X' and decide on the action and observe the outcome"
   ]
  },
  {
   "cell_type": "code",
   "execution_count": 10,
   "metadata": {},
   "outputs": [
    {
     "name": "stdout",
     "output_type": "stream",
     "text": [
      "Initialising policy with  3 actions\n",
      "A = { [-1  0  1] }\n"
     ]
    }
   ],
   "source": [
    "# These are the possbile actions, currently restricted to -1, which is\n",
    "# No vaccine, and 0, which is a vaccine\n",
    "action_space = np.array([-1,0,1])\n",
    "nactions = action_space.shape[0]\n",
    "\n",
    "# Initializing our policy with the number of actions and\n",
    "vaccine_policy = Naive(nactions, action_space)\n",
    "\n",
    "# Here we set our predictive model\n",
    "vaccine_policy.set_model(BetaBernoulliModel(n_symptoms, nactions))\n",
    "\n",
    "# Arrays to store the actions and outcomes for each\n",
    "Y = np.zeros((n_population, n_symptoms+1))\n",
    "A = np.zeros(n_population)\n",
    "\n",
    "for t in range(n_population):\n",
    "    #print(\"Person nr: \", t)\n",
    "    a_t = vaccine_policy.get_action(X[t].reshape((1, n_features)))\n",
    "    # Then you can obtain results for everybody\n",
    "    y_t = population.vaccinate([t], a_t.reshape((1, 1)))\n",
    "    # Feed the results back in your policy. This allows you to fit the\n",
    "    # statistical model you have.\n",
    "    vaccine_policy.observe(X[t], a_t, y_t)\n",
    "\n",
    "    # Saving action taken and outcome obtained.\n",
    "    Y[t] = y_t\n",
    "    A[t] = a_t\n"
   ]
  },
  {
   "cell_type": "code",
   "execution_count": 12,
   "metadata": {},
   "outputs": [],
   "source": [
    "def print_pre_statistics(X):\n",
    "    print(f'Statistic (N={X.shape[0]})')\n",
    "    for i in range(len(symptom_names)-1):\n",
    "        print(f'{symptom_names[i].ljust(15)} {X[:, i].sum()}')\n"
   ]
  },
  {
   "cell_type": "code",
   "execution_count": 13,
   "metadata": {},
   "outputs": [
    {
     "name": "stdout",
     "output_type": "stream",
     "text": [
      "[0. 0. 1. ... 0. 1. 1.]\n"
     ]
    },
    {
     "data": {
      "text/plain": [
       "(array([40000.,     0.,     0.,     0.,     0., 40001.,     0.,     0.,\n",
       "            0., 19999.]),\n",
       " array([0. , 0.2, 0.4, 0.6, 0.8, 1. , 1.2, 1.4, 1.6, 1.8, 2. ]),\n",
       " <BarContainer object of 10 artists>)"
      ]
     },
     "execution_count": 13,
     "metadata": {},
     "output_type": "execute_result"
    },
    {
     "data": {
      "image/png": "[encoded data removed]",
      "text/plain": [
       "<Figure size 432x288 with 1 Axes>"
      ]
     },
     "metadata": {
      "needs_background": "light"
     },
     "output_type": "display_data"
    }
   ],
   "source": [
    "#print_pre_statistics(Y)\n",
    "print(A)\n",
    "plt.hist(A)"
   ]
  },
  {
   "cell_type": "code",
   "execution_count": 14,
   "metadata": {},
   "outputs": [],
   "source": [
    "# Getting model paramters and plotting expectation\n",
    "\n",
    "a, b = vaccine_policy.model.get_params()\n",
    "c = a[0]/(a[0] + b[0])\n",
    "v = a[1]/(a[1] + b[1])\n"
   ]
  },
  {
   "cell_type": "code",
   "execution_count": 15,
   "metadata": {},
   "outputs": [
    {
     "name": "stdout",
     "output_type": "stream",
     "text": [
      "0.000012\n",
      "0.000012\n",
      "0.000012\n",
      "0.000012\n",
      "0.000012\n",
      "0.000012\n",
      "0.000012\n",
      "0.000012\n",
      "0.000012\n"
     ]
    }
   ],
   "source": [
    "for i in c:\n",
    "    print(f'{i:.6f}')"
   ]
  },
  {
   "cell_type": "code",
   "execution_count": 16,
   "metadata": {},
   "outputs": [
    {
     "name": "stdout",
     "output_type": "stream",
     "text": [
      "0.000012\n",
      "0.000012\n",
      "0.000012\n",
      "0.000012\n",
      "0.000012\n",
      "0.000012\n",
      "0.000012\n",
      "0.000012\n",
      "0.000012\n"
     ]
    }
   ],
   "source": [
    "for i in v:\n",
    "    print(f'{i:.6f}')\n",
    "    "
   ]
  },
  {
   "cell_type": "code",
   "execution_count": 25,
   "metadata": {},
   "outputs": [
    {
     "name": "stdout",
     "output_type": "stream",
     "text": [
      "[0. 0. 0. 0. 0. 0. 0. 0. 0. 0.]\n",
      "Accumulated utility for the policy run: 0.0\n"
     ]
    }
   ],
   "source": [
    "print(np.sum(Y, axis=0))\n",
    "#plt.scatter(range(150),np.sum(X, axis=0))\n",
    "print('Accumulated utility for the policy run:', vaccine_policy.get_utility(X, A, Y))\n",
    "\n"
   ]
  },
  {
   "cell_type": "markdown",
   "metadata": {},
   "source": [
    "# FAIRNESS\n",
    "Assume we have a set of features $X$, a set of actions taken $A$, and a set of outcomes $Y$. Make a function that accepts these numpy arrays and calculates the equal-op score using this list of sensitive variables.\n"
   ]
  },
  {
   "cell_type": "code",
   "execution_count": 20,
   "metadata": {},
   "outputs": [],
   "source": [
    "sensitive_control_variables = ['gender', 'income']"
   ]
  },
  {
   "cell_type": "code",
   "execution_count": null,
   "metadata": {},
   "outputs": [],
   "source": [
    "def equal_op(X, A, Y, Z=sensitive_control_variables):\n",
    "    scores = np.zeros(len(Z))\n",
    "\n",
    "    for z in Z:\n",
    "        "
   ]
  }
 ],
 "metadata": {
  "interpreter": {
   "hash": "b0fa6594d8f4cbf19f97940f81e996739fb7646882a419484c72d19e05852a7e"
  },
  "kernelspec": {
   "display_name": "Python 3.9.7 64-bit",
   "name": "python3"
  },
  "language_info": {
   "codemirror_mode": {
    "name": "ipython",
    "version": 3
   },
   "file_extension": ".py",
   "mimetype": "text/x-python",
   "name": "python",
   "nbconvert_exporter": "python",
   "pygments_lexer": "ipython3",
   "version": "3.9.7"
  },
  "orig_nbformat": 4
 },
 "nbformat": 4,
 "nbformat_minor": 2
}
