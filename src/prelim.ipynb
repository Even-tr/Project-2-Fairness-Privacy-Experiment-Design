{
 "cells": [
  {
   "cell_type": "code",
   "execution_count": 23,
   "metadata": {},
   "outputs": [],
   "source": [
    "from covid.simulator import Population\n",
    "import numpy as np\n",
    "from covid.auxilliary import symptom_names\n",
    "import pandas as pd\n",
    "\n",
    "\n",
    "n_genes = 128\n",
    "n_vaccines = 3\n",
    "n_treatments = 4\n",
    "n_population = 10_000\n",
    "\n",
    "population = Population(n_genes, n_vaccines, n_treatments)\n",
    "\n"
   ]
  },
  {
   "cell_type": "code",
   "execution_count": 24,
   "metadata": {},
   "outputs": [],
   "source": [
    "genome_names = ['genome' + str(i) for i in range(128)]\n",
    "comorbiditie_names = ['asthma', 'obesity', 'smoking', 'diabetes', \n",
    "'heart_disease', 'hypertension']\n",
    "\n",
    "vaccination_status_names = ['vaccine_1', 'vaccine_2', 'vaccine_3']\n",
    "\n",
    "symptom_names = ['covid_recovered','covid_positive', 'no_taste_smell',\n",
    "'fever','headache', 'pneumonia','stomach','myocarditis', 'blood_clots','death']\n",
    "\n",
    "# feature_names = ['age', 'gender'] + genome_names + comorbiditie_names + vaccination_status_names + symptom_names\n",
    "\n",
    "feature_names = symptom_names + ['age', 'gender', 'income'] + genome_names + comorbiditie_names + vaccination_status_names\n"
   ]
  },
  {
   "cell_type": "code",
   "execution_count": 25,
   "metadata": {},
   "outputs": [],
   "source": [
    "def ind(colname: str):\n",
    "    return feature_names.index(colname)"
   ]
  },
  {
   "cell_type": "markdown",
   "metadata": {},
   "source": [
    "# VACCINATING"
   ]
  },
  {
   "cell_type": "code",
   "execution_count": 33,
   "metadata": {},
   "outputs": [],
   "source": [
    "X = population.generate(n_population)\n",
    "\n",
    "# selecting a random half of the population\n",
    "vac_mask = np.random.choice([0,1], size=n_population)\n",
    "vac_indicies = []\n",
    "novac_indicies = []\n",
    "\n",
    "for i in range(n_population):\n",
    "    if vac_mask[i]:\n",
    "        vac_indicies.append(i)\n",
    "    else:\n",
    "        novac_indicies.append(i)\n",
    "        \n",
    "vac_indicies = np.array(vac_indicies, dtype=int)\n",
    "novac_indicies = np.array(novac_indicies, dtype=int)\n",
    "\n",
    "\n",
    "n = n_population\n",
    "m = len(vac_indicies)\n",
    "\n",
    "vac = np.zeros(shape = [m, 2], dtype=int)\n",
    "vac[:,0] = 1\n",
    "\n",
    "novac = np.zeros(shape = [n, 2], dtype=int)\n",
    "vac[:,1] = -1\n",
    "\n",
    "# controll i.e. no vaccine\n",
    "Yc = population.vaccinate(novac_indicies, vaccine_array=novac)\n",
    "\n",
    "# giving vaccine i\n",
    "Yv = population.vaccinate(vac_indicies, vaccine_array=vac)\n",
    "\n",
    "\n"
   ]
  },
  {
   "cell_type": "code",
   "execution_count": 28,
   "metadata": {},
   "outputs": [],
   "source": [
    "def print_pre_statistics(X):\n",
    "    print(f'Before trial (N={X.shape[0]})')\n",
    "    for i in range(len(symptom_names)):\n",
    "        print(f'{symptom_names[i].ljust(15)} {X[:, i].mean()}')\n",
    "\n",
    "def print_compare(V, C):\n",
    "    #print(''.ljust(15)+'\\tC\\tV\\tC/V')\n",
    "    print(f'{\"\".ljust(15)}\\tC: {C.shape[0]}\\tV: {V.shape[0]}\\tC/V')\n",
    "    for i in range(Yc.shape[1]):\n",
    "        v = V[:, i].mean()\n",
    "        c = C[:, i].mean()\n",
    "        s = symptom_names[i]\n",
    "        print(f'{s.ljust(15)}:{c: .4f}\\t{v: .4f}\\t{c/v:.4f}')\n"
   ]
  },
  {
   "cell_type": "code",
   "execution_count": 29,
   "metadata": {},
   "outputs": [
    {
     "name": "stdout",
     "output_type": "stream",
     "text": [
      "Before trial (N=10000)\n",
      "covid_recovered 0.0945\n",
      "covid_positive  0.102\n",
      "no_taste_smell  0.0137\n",
      "fever           0.0944\n",
      "headache        0.0511\n",
      "pneumonia       0.0102\n",
      "stomach         0.0028\n",
      "myocarditis     0.0032\n",
      "blood_clots     0.0102\n",
      "death           0.0048\n"
     ]
    }
   ],
   "source": [
    "print_pre_statistics(X)"
   ]
  },
  {
   "cell_type": "code",
   "execution_count": 34,
   "metadata": {},
   "outputs": [
    {
     "name": "stdout",
     "output_type": "stream",
     "text": [
      "               \tC: 5027\tV: 4973\tC/V\n",
      "covid_recovered: 0.0993\t 0.0999\t0.9932\n",
      "covid_positive : 0.0969\t 0.0975\t0.9933\n",
      "no_taste_smell : 0.0153\t 0.0191\t0.8018\n",
      "fever          : 0.1287\t 0.1691\t0.7611\n",
      "headache       : 0.0706\t 0.0963\t0.7332\n",
      "pneumonia      : 0.0119\t 0.0151\t0.7914\n",
      "stomach        : 0.0036\t 0.0044\t0.8094\n",
      "myocarditis    : 0.0050\t 0.0058\t0.8528\n",
      "blood_clots    : 0.0135\t 0.0155\t0.8736\n",
      "death          : 0.0064\t 0.0070\t0.9045\n"
     ]
    }
   ],
   "source": [
    "print_compare(Yv, Yc)"
   ]
  },
  {
   "cell_type": "markdown",
   "metadata": {},
   "source": [
    "# TREATING"
   ]
  },
  {
   "cell_type": "code",
   "execution_count": null,
   "metadata": {},
   "outputs": [],
   "source": [
    "X = population.generate(n_population)\n"
   ]
  }
 ],
 "metadata": {
  "language_info": {
   "name": "python"
  },
  "orig_nbformat": 4
 },
 "nbformat": 4,
 "nbformat_minor": 2
}
